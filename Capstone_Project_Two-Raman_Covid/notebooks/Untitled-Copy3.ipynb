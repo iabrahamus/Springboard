{
 "cells": [
  {
   "cell_type": "markdown",
   "metadata": {},
   "source": [
    "# Data Wrangling"
   ]
  },
  {
   "cell_type": "markdown",
   "metadata": {},
   "source": [
    "## Problem statement\n",
    "Context\\\n",
    "Raman spectroscopy could be an alteranative to PCR technique (current diagnostic method for SARS-CoV-2). Though PCR is a very sensitive, specific, an accrurate method, it might be time consuming in pendemic situations. Raman spectroscopy on other hand is cheap and quick method. \n",
    "\n",
    "In this project we develop a classification type machine learning model tha enables us to correctly diagnose SARS-CoV-2. \n",
    "\n",
    "Dataset\\\n",
    "\n",
    "- `covid_and_healthy_spectra.csv`\n",
    "- `suspected_spectra.csv`\n",
    "\n",
    "Acknowledgements:\\\n",
    "Yin, Gang; Li, Lintao; Lu, Shun; Yin, Yu; Su, Yuanzhang; Zeng, Yilan; et al. (2020): Data and code on serum Raman spectroscopy as an efficient primary screening of coronavirus disease in 2019 (COVID-19). figshare. Dataset. https://doi.org/10.6084/m9.figshare.12159924.v1\n"
   ]
  },
  {
   "cell_type": "markdown",
   "metadata": {},
   "source": [
    "## Imports\n",
    "\n",
    "Let us import all libraries here. One place to consult for notebook dependencies  "
   ]
  },
  {
   "cell_type": "code",
   "execution_count": 71,
   "metadata": {},
   "outputs": [],
   "source": [
    "# Import libraries \n",
    "import os\n",
    "import pandas as pd\n",
    "import numpy as np\n",
    "import matplotlib.pyplot as plt\n",
    "import seaborn as sns\n",
    "from sklearn import __version__ as sklearn_version\n",
    "from sklearn.decomposition import PCA\n",
    "from sklearn.preprocessing import scale\n",
    "from sklearn.model_selection import train_test_split, cross_validate, GridSearchCV, learning_curve\n",
    "from sklearn.preprocessing import StandardScaler, MinMaxScaler\n",
    "from sklearn.dummy import DummyRegressor\n",
    "from sklearn.linear_model import LinearRegression\n",
    "from sklearn.ensemble import RandomForestRegressor\n",
    "from sklearn.metrics import r2_score, mean_squared_error, mean_absolute_error\n",
    "from sklearn.pipeline import make_pipeline\n",
    "from sklearn.impute import SimpleImputer\n",
    "from sklearn.feature_selection import SelectKBest, f_regression\n",
    "from sklearn.ensemble import RandomForestClassifier\n",
    "from sklearn.linear_model import LogisticRegression\n",
    "import datetime\n",
    "from seaborn import heatmap\n",
    "from library.sb_utils import save_file"
   ]
  },
  {
   "cell_type": "markdown",
   "metadata": {},
   "source": [
    "## Load the covid spectral data"
   ]
  },
  {
   "cell_type": "code",
   "execution_count": 63,
   "metadata": {},
   "outputs": [
    {
     "data": {
      "text/html": [
       "<div>\n",
       "<style scoped>\n",
       "    .dataframe tbody tr th:only-of-type {\n",
       "        vertical-align: middle;\n",
       "    }\n",
       "\n",
       "    .dataframe tbody tr th {\n",
       "        vertical-align: top;\n",
       "    }\n",
       "\n",
       "    .dataframe thead th {\n",
       "        text-align: right;\n",
       "    }\n",
       "</style>\n",
       "<table border=\"1\" class=\"dataframe\">\n",
       "  <thead>\n",
       "    <tr style=\"text-align: right;\">\n",
       "      <th></th>\n",
       "      <th>400</th>\n",
       "      <th>402</th>\n",
       "      <th>405</th>\n",
       "      <th>407</th>\n",
       "      <th>410</th>\n",
       "      <th>412</th>\n",
       "      <th>415</th>\n",
       "      <th>417</th>\n",
       "      <th>420</th>\n",
       "      <th>422</th>\n",
       "      <th>...</th>\n",
       "      <th>2101</th>\n",
       "      <th>2103</th>\n",
       "      <th>2104</th>\n",
       "      <th>2105</th>\n",
       "      <th>2107</th>\n",
       "      <th>2108</th>\n",
       "      <th>2109</th>\n",
       "      <th>2111</th>\n",
       "      <th>2112</th>\n",
       "      <th>diagnostic</th>\n",
       "    </tr>\n",
       "  </thead>\n",
       "  <tbody>\n",
       "    <tr>\n",
       "      <th>0</th>\n",
       "      <td>0.0</td>\n",
       "      <td>-0.015237</td>\n",
       "      <td>-0.030607</td>\n",
       "      <td>-0.038309</td>\n",
       "      <td>-0.039078</td>\n",
       "      <td>-0.035809</td>\n",
       "      <td>-0.031176</td>\n",
       "      <td>-0.030395</td>\n",
       "      <td>-0.033311</td>\n",
       "      <td>-0.031603</td>\n",
       "      <td>...</td>\n",
       "      <td>-0.000553</td>\n",
       "      <td>0.000118</td>\n",
       "      <td>0.000566</td>\n",
       "      <td>0.001245</td>\n",
       "      <td>0.000846</td>\n",
       "      <td>0.001106</td>\n",
       "      <td>0.001005</td>\n",
       "      <td>0.000117</td>\n",
       "      <td>0.0</td>\n",
       "      <td>Healthy</td>\n",
       "    </tr>\n",
       "    <tr>\n",
       "      <th>1</th>\n",
       "      <td>0.0</td>\n",
       "      <td>-0.012098</td>\n",
       "      <td>-0.028164</td>\n",
       "      <td>-0.035189</td>\n",
       "      <td>-0.036138</td>\n",
       "      <td>-0.031050</td>\n",
       "      <td>-0.026015</td>\n",
       "      <td>-0.027539</td>\n",
       "      <td>-0.028084</td>\n",
       "      <td>-0.027075</td>\n",
       "      <td>...</td>\n",
       "      <td>-0.000998</td>\n",
       "      <td>0.000278</td>\n",
       "      <td>-0.000123</td>\n",
       "      <td>0.000384</td>\n",
       "      <td>0.001010</td>\n",
       "      <td>0.000583</td>\n",
       "      <td>-0.000397</td>\n",
       "      <td>-0.000160</td>\n",
       "      <td>0.0</td>\n",
       "      <td>Healthy</td>\n",
       "    </tr>\n",
       "    <tr>\n",
       "      <th>2</th>\n",
       "      <td>0.0</td>\n",
       "      <td>-0.013000</td>\n",
       "      <td>-0.029058</td>\n",
       "      <td>-0.035021</td>\n",
       "      <td>-0.034994</td>\n",
       "      <td>-0.033025</td>\n",
       "      <td>-0.028413</td>\n",
       "      <td>-0.028470</td>\n",
       "      <td>-0.029737</td>\n",
       "      <td>-0.029198</td>\n",
       "      <td>...</td>\n",
       "      <td>-0.001554</td>\n",
       "      <td>0.000050</td>\n",
       "      <td>0.000866</td>\n",
       "      <td>0.000877</td>\n",
       "      <td>0.000871</td>\n",
       "      <td>0.001093</td>\n",
       "      <td>0.001058</td>\n",
       "      <td>0.000614</td>\n",
       "      <td>0.0</td>\n",
       "      <td>Healthy</td>\n",
       "    </tr>\n",
       "    <tr>\n",
       "      <th>3</th>\n",
       "      <td>0.0</td>\n",
       "      <td>-0.015728</td>\n",
       "      <td>-0.034346</td>\n",
       "      <td>-0.045140</td>\n",
       "      <td>-0.047671</td>\n",
       "      <td>-0.044334</td>\n",
       "      <td>-0.040807</td>\n",
       "      <td>-0.040474</td>\n",
       "      <td>-0.041417</td>\n",
       "      <td>-0.040699</td>\n",
       "      <td>...</td>\n",
       "      <td>-0.001541</td>\n",
       "      <td>-0.000198</td>\n",
       "      <td>0.000202</td>\n",
       "      <td>0.001023</td>\n",
       "      <td>0.000625</td>\n",
       "      <td>0.000420</td>\n",
       "      <td>0.000543</td>\n",
       "      <td>-0.000071</td>\n",
       "      <td>0.0</td>\n",
       "      <td>Healthy</td>\n",
       "    </tr>\n",
       "    <tr>\n",
       "      <th>4</th>\n",
       "      <td>0.0</td>\n",
       "      <td>-0.020355</td>\n",
       "      <td>-0.045839</td>\n",
       "      <td>-0.060556</td>\n",
       "      <td>-0.065805</td>\n",
       "      <td>-0.064988</td>\n",
       "      <td>-0.062097</td>\n",
       "      <td>-0.061955</td>\n",
       "      <td>-0.064759</td>\n",
       "      <td>-0.066886</td>\n",
       "      <td>...</td>\n",
       "      <td>-0.000088</td>\n",
       "      <td>0.000891</td>\n",
       "      <td>0.000942</td>\n",
       "      <td>0.001294</td>\n",
       "      <td>0.001878</td>\n",
       "      <td>0.001739</td>\n",
       "      <td>0.001946</td>\n",
       "      <td>0.001301</td>\n",
       "      <td>0.0</td>\n",
       "      <td>Healthy</td>\n",
       "    </tr>\n",
       "  </tbody>\n",
       "</table>\n",
       "<p>5 rows × 901 columns</p>\n",
       "</div>"
      ],
      "text/plain": [
       "   400       402       405       407       410       412       415       417  \\\n",
       "0  0.0 -0.015237 -0.030607 -0.038309 -0.039078 -0.035809 -0.031176 -0.030395   \n",
       "1  0.0 -0.012098 -0.028164 -0.035189 -0.036138 -0.031050 -0.026015 -0.027539   \n",
       "2  0.0 -0.013000 -0.029058 -0.035021 -0.034994 -0.033025 -0.028413 -0.028470   \n",
       "3  0.0 -0.015728 -0.034346 -0.045140 -0.047671 -0.044334 -0.040807 -0.040474   \n",
       "4  0.0 -0.020355 -0.045839 -0.060556 -0.065805 -0.064988 -0.062097 -0.061955   \n",
       "\n",
       "        420       422  ...      2101      2103      2104      2105      2107  \\\n",
       "0 -0.033311 -0.031603  ... -0.000553  0.000118  0.000566  0.001245  0.000846   \n",
       "1 -0.028084 -0.027075  ... -0.000998  0.000278 -0.000123  0.000384  0.001010   \n",
       "2 -0.029737 -0.029198  ... -0.001554  0.000050  0.000866  0.000877  0.000871   \n",
       "3 -0.041417 -0.040699  ... -0.001541 -0.000198  0.000202  0.001023  0.000625   \n",
       "4 -0.064759 -0.066886  ... -0.000088  0.000891  0.000942  0.001294  0.001878   \n",
       "\n",
       "       2108      2109      2111  2112  diagnostic  \n",
       "0  0.001106  0.001005  0.000117   0.0     Healthy  \n",
       "1  0.000583 -0.000397 -0.000160   0.0     Healthy  \n",
       "2  0.001093  0.001058  0.000614   0.0     Healthy  \n",
       "3  0.000420  0.000543 -0.000071   0.0     Healthy  \n",
       "4  0.001739  0.001946  0.001301   0.0     Healthy  \n",
       "\n",
       "[5 rows x 901 columns]"
      ]
     },
     "execution_count": 63,
     "metadata": {},
     "output_type": "execute_result"
    }
   ],
   "source": [
    "# set a path variable to the directory containing raman covid data:. ../raw_data/Raman_Covid\n",
    "path = '../raw_data/Raman_Covid'\n",
    "# Concatenate directory path to the file name: covid_path\n",
    "covid_path = path + '/covid_and_healthy_spectra.csv'\n",
    "# Load data file to a dataframe: covid_data\n",
    "covid_data = pd.read_csv(covid_path)\n",
    "# Preview content of file\n",
    "covid_data.head()\n",
    "# Load suspect data\n",
    "suspect_data = pd.read_csv(path + '/suspected_spectra.csv');\n",
    "suspect_data.shape\n",
    "covid_data.head()"
   ]
  },
  {
   "cell_type": "markdown",
   "metadata": {},
   "source": [
    "## Explore the data"
   ]
  },
  {
   "cell_type": "code",
   "execution_count": 64,
   "metadata": {},
   "outputs": [
    {
     "name": "stdout",
     "output_type": "stream",
     "text": [
      "<class 'pandas.core.frame.DataFrame'>\n",
      "RangeIndex: 309 entries, 0 to 308\n",
      "Columns: 901 entries, 400 to diagnostic\n",
      "dtypes: float64(900), object(1)\n",
      "memory usage: 2.1+ MB\n"
     ]
    },
    {
     "data": {
      "text/plain": [
       "400           float64\n",
       "402           float64\n",
       "405           float64\n",
       "407           float64\n",
       "410           float64\n",
       "               ...   \n",
       "2108          float64\n",
       "2109          float64\n",
       "2111          float64\n",
       "2112          float64\n",
       "diagnostic     object\n",
       "Length: 901, dtype: object"
      ]
     },
     "execution_count": 64,
     "metadata": {},
     "output_type": "execute_result"
    }
   ],
   "source": [
    "#Quickly audit data: covid_data.info()\n",
    "covid_data.info()\n",
    "covid_data.dtypes"
   ]
  },
  {
   "cell_type": "markdown",
   "metadata": {},
   "source": [
    "###  Count the number of missing data"
   ]
  },
  {
   "cell_type": "code",
   "execution_count": 6,
   "metadata": {},
   "outputs": [
    {
     "data": {
      "text/html": [
       "<div>\n",
       "<style scoped>\n",
       "    .dataframe tbody tr th:only-of-type {\n",
       "        vertical-align: middle;\n",
       "    }\n",
       "\n",
       "    .dataframe tbody tr th {\n",
       "        vertical-align: top;\n",
       "    }\n",
       "\n",
       "    .dataframe thead th {\n",
       "        text-align: right;\n",
       "    }\n",
       "</style>\n",
       "<table border=\"1\" class=\"dataframe\">\n",
       "  <thead>\n",
       "    <tr style=\"text-align: right;\">\n",
       "      <th></th>\n",
       "      <th>count</th>\n",
       "      <th>%</th>\n",
       "    </tr>\n",
       "  </thead>\n",
       "  <tbody>\n",
       "    <tr>\n",
       "      <th>400</th>\n",
       "      <td>0</td>\n",
       "      <td>0.0</td>\n",
       "    </tr>\n",
       "    <tr>\n",
       "      <th>402</th>\n",
       "      <td>0</td>\n",
       "      <td>0.0</td>\n",
       "    </tr>\n",
       "    <tr>\n",
       "      <th>405</th>\n",
       "      <td>0</td>\n",
       "      <td>0.0</td>\n",
       "    </tr>\n",
       "    <tr>\n",
       "      <th>407</th>\n",
       "      <td>0</td>\n",
       "      <td>0.0</td>\n",
       "    </tr>\n",
       "    <tr>\n",
       "      <th>410</th>\n",
       "      <td>0</td>\n",
       "      <td>0.0</td>\n",
       "    </tr>\n",
       "    <tr>\n",
       "      <th>...</th>\n",
       "      <td>...</td>\n",
       "      <td>...</td>\n",
       "    </tr>\n",
       "    <tr>\n",
       "      <th>2108</th>\n",
       "      <td>0</td>\n",
       "      <td>0.0</td>\n",
       "    </tr>\n",
       "    <tr>\n",
       "      <th>2109</th>\n",
       "      <td>0</td>\n",
       "      <td>0.0</td>\n",
       "    </tr>\n",
       "    <tr>\n",
       "      <th>2111</th>\n",
       "      <td>0</td>\n",
       "      <td>0.0</td>\n",
       "    </tr>\n",
       "    <tr>\n",
       "      <th>2112</th>\n",
       "      <td>0</td>\n",
       "      <td>0.0</td>\n",
       "    </tr>\n",
       "    <tr>\n",
       "      <th>diagnostic</th>\n",
       "      <td>0</td>\n",
       "      <td>0.0</td>\n",
       "    </tr>\n",
       "  </tbody>\n",
       "</table>\n",
       "<p>901 rows × 2 columns</p>\n",
       "</div>"
      ],
      "text/plain": [
       "            count    %\n",
       "400             0  0.0\n",
       "402             0  0.0\n",
       "405             0  0.0\n",
       "407             0  0.0\n",
       "410             0  0.0\n",
       "...           ...  ...\n",
       "2108            0  0.0\n",
       "2109            0  0.0\n",
       "2111            0  0.0\n",
       "2112            0  0.0\n",
       "diagnostic      0  0.0\n",
       "\n",
       "[901 rows x 2 columns]"
      ]
     },
     "execution_count": 6,
     "metadata": {},
     "output_type": "execute_result"
    }
   ],
   "source": [
    "#Count (using `.sum()`) the number of missing values (`.isnull()`) in each column of \n",
    "#covid_data as well as the percentages (using `.mean()` instead of `.sum()`).\n",
    "#rder them (increasing or decreasing) using sort_values\n",
    "#Call `pd.concat` to present these in a single table (DataFrame) with the helpful column names 'count' and '%'\n",
    "missing = pd.concat([covid_data.isnull().sum(), 100 * covid_data.isnull().mean()], axis=1)\n",
    "missing.columns=['count', '%']\n",
    "missing\n",
    "#missing.sort_values(by='count',ascending=True)"
   ]
  },
  {
   "cell_type": "markdown",
   "metadata": {},
   "source": [
    "### Categorical features\n",
    "\n",
    "Let us find and see all our categorial features."
   ]
  },
  {
   "cell_type": "code",
   "execution_count": 73,
   "metadata": {},
   "outputs": [
    {
     "data": {
      "text/html": [
       "<div>\n",
       "<style scoped>\n",
       "    .dataframe tbody tr th:only-of-type {\n",
       "        vertical-align: middle;\n",
       "    }\n",
       "\n",
       "    .dataframe tbody tr th {\n",
       "        vertical-align: top;\n",
       "    }\n",
       "\n",
       "    .dataframe thead th {\n",
       "        text-align: right;\n",
       "    }\n",
       "</style>\n",
       "<table border=\"1\" class=\"dataframe\">\n",
       "  <thead>\n",
       "    <tr style=\"text-align: right;\">\n",
       "      <th></th>\n",
       "      <th>diagnostic</th>\n",
       "    </tr>\n",
       "  </thead>\n",
       "  <tbody>\n",
       "    <tr>\n",
       "      <th>0</th>\n",
       "      <td>Healthy</td>\n",
       "    </tr>\n",
       "    <tr>\n",
       "      <th>1</th>\n",
       "      <td>Healthy</td>\n",
       "    </tr>\n",
       "    <tr>\n",
       "      <th>2</th>\n",
       "      <td>Healthy</td>\n",
       "    </tr>\n",
       "    <tr>\n",
       "      <th>3</th>\n",
       "      <td>Healthy</td>\n",
       "    </tr>\n",
       "    <tr>\n",
       "      <th>4</th>\n",
       "      <td>Healthy</td>\n",
       "    </tr>\n",
       "    <tr>\n",
       "      <th>...</th>\n",
       "      <td>...</td>\n",
       "    </tr>\n",
       "    <tr>\n",
       "      <th>304</th>\n",
       "      <td>SARS-CoV-2</td>\n",
       "    </tr>\n",
       "    <tr>\n",
       "      <th>305</th>\n",
       "      <td>SARS-CoV-2</td>\n",
       "    </tr>\n",
       "    <tr>\n",
       "      <th>306</th>\n",
       "      <td>SARS-CoV-2</td>\n",
       "    </tr>\n",
       "    <tr>\n",
       "      <th>307</th>\n",
       "      <td>SARS-CoV-2</td>\n",
       "    </tr>\n",
       "    <tr>\n",
       "      <th>308</th>\n",
       "      <td>SARS-CoV-2</td>\n",
       "    </tr>\n",
       "  </tbody>\n",
       "</table>\n",
       "<p>309 rows × 1 columns</p>\n",
       "</div>"
      ],
      "text/plain": [
       "     diagnostic\n",
       "0       Healthy\n",
       "1       Healthy\n",
       "2       Healthy\n",
       "3       Healthy\n",
       "4       Healthy\n",
       "..          ...\n",
       "304  SARS-CoV-2\n",
       "305  SARS-CoV-2\n",
       "306  SARS-CoV-2\n",
       "307  SARS-CoV-2\n",
       "308  SARS-CoV-2\n",
       "\n",
       "[309 rows x 1 columns]"
      ]
     },
     "execution_count": 73,
     "metadata": {},
     "output_type": "execute_result"
    }
   ],
   "source": [
    "#Use covid_data's `select_dtypes` method to select columns of dtype 'object'\n",
    "covid_data.select_dtypes('object')"
   ]
  },
  {
   "cell_type": "markdown",
   "metadata": {},
   "source": [
    "The only categorial feature in our data is column `diagnosis`"
   ]
  },
  {
   "cell_type": "markdown",
   "metadata": {},
   "source": [
    "#### Unique categorical values\n",
    "Let us see the unique categorial values of the feature `diagnostic`"
   ]
  },
  {
   "cell_type": "code",
   "execution_count": 75,
   "metadata": {},
   "outputs": [
    {
     "data": {
      "text/plain": [
       "SARS-CoV-2    159\n",
       "Healthy       150\n",
       "Name: diagnostic, dtype: int64"
      ]
     },
     "execution_count": 75,
     "metadata": {},
     "output_type": "execute_result"
    }
   ],
   "source": [
    "#Use pandas' Series method `value_counts` to find any duplicated resort names\n",
    "covid_data['diagnostic'].value_counts().head()"
   ]
  },
  {
   "cell_type": "markdown",
   "metadata": {},
   "source": [
    "The `diagnostic` feature has two unique values, namely: `SARS-Cov2` and `Healthy`. Our data consists of 159 Covid cases and 150 Healthy individuals."
   ]
  },
  {
   "cell_type": "markdown",
   "metadata": {},
   "source": [
    "#### Distribution of `diagnostic` categorical feature"
   ]
  },
  {
   "cell_type": "code",
   "execution_count": 77,
   "metadata": {},
   "outputs": [
    {
     "data": {
      "image/png": "[encoded data removed]",
      "text/plain": [
       "<Figure size 432x288 with 1 Axes>"
      ]
     },
     "metadata": {
      "needs_background": "light"
     },
     "output_type": "display_data"
    }
   ],
   "source": [
    "plt.hist(covid_data['diagnostic'])\n",
    "plt.xlabel('Diagnostic')\n",
    "plt.ylabel('Count')\n",
    "plt.title('Covid versus Healthy cases')\n",
    "plt.show()"
   ]
  },
  {
   "cell_type": "markdown",
   "metadata": {},
   "source": [
    "### Numerical features\n",
    "\n",
    "#### Distributions of numeric features\n",
    "\n",
    " We have 900 numerical features and generating all distirubtions at once may not efficient. Let us investigate the distribution of some selected numerical features."
   ]
  },
  {
   "cell_type": "code",
   "execution_count": 96,
   "metadata": {},
   "outputs": [
    {
     "data": {
      "image/png": "[encoded data removed]",
      "text/plain": [
       "<Figure size 1080x720 with 225 Axes>"
      ]
     },
     "metadata": {
      "needs_background": "light"
     },
     "output_type": "display_data"
    }
   ],
   "source": [
    "covid_data.iloc[:,0:901:4].hist(figsize=(15,10),bins=10)\n",
    "plt.subplots_adjust(hspace=2);\n",
    "plt.show()"
   ]
  },
  {
   "cell_type": "markdown",
   "metadata": {},
   "source": [
    "What features do we have possible cause for concern about and why?\n",
    "\n",
    "* several features like `400` because values are clustered down the low end,\n",
    "\n",
    "It seems some features might have 0 values only. Let's find out which features display this behaviour."
   ]
  },
  {
   "cell_type": "markdown",
   "metadata": {},
   "source": [
    "#### Features with zero values\n",
    "\n",
    "Get how many features we have with all zero values. "
   ]
  },
  {
   "cell_type": "code",
   "execution_count": 164,
   "metadata": {},
   "outputs": [
    {
     "data": {
      "text/plain": [
       "(309, 9)"
      ]
     },
     "execution_count": 164,
     "metadata": {},
     "output_type": "execute_result"
    }
   ],
   "source": [
    "# Get columns with all zero values\n",
    "zero_covid_data = covid_data.loc[:, ~(covid_data != 0).any(axis=0)]\n",
    "zero_covid_data.shape"
   ]
  },
  {
   "cell_type": "markdown",
   "metadata": {},
   "source": [
    "We have 9 features with all zero values. "
   ]
  },
  {
   "cell_type": "markdown",
   "metadata": {},
   "source": [
    "#### Distribution of zero numeric features"
   ]
  },
  {
   "cell_type": "code",
   "execution_count": 163,
   "metadata": {},
   "outputs": [
    {
     "data": {
      "text/plain": [
       "0.0    309\n",
       "Name: 904, dtype: int64"
      ]
     },
     "execution_count": 163,
     "metadata": {},
     "output_type": "execute_result"
    },
    {
     "data": {
      "image/png": "[encoded data removed]",
      "text/plain": [
       "<Figure size 576x576 with 9 Axes>"
      ]
     },
     "metadata": {
      "needs_background": "light"
     },
     "output_type": "display_data"
    }
   ],
   "source": [
    "zero_covid_data.hist(figsize=(8,8),bins=40)\n",
    "plt.subplots_adjust(hspace=0.5);\n",
    "#plt.show()\n",
    "zero_covid_data['904'].value_counts()"
   ]
  },
  {
   "cell_type": "markdown",
   "metadata": {},
   "source": [
    "#### Drop zero features\n",
    "We need to drop columns with all values zero."
   ]
  },
  {
   "cell_type": "code",
   "execution_count": 166,
   "metadata": {},
   "outputs": [
    {
     "data": {
      "text/html": [
       "<div>\n",
       "<style scoped>\n",
       "    .dataframe tbody tr th:only-of-type {\n",
       "        vertical-align: middle;\n",
       "    }\n",
       "\n",
       "    .dataframe tbody tr th {\n",
       "        vertical-align: top;\n",
       "    }\n",
       "\n",
       "    .dataframe thead th {\n",
       "        text-align: right;\n",
       "    }\n",
       "</style>\n",
       "<table border=\"1\" class=\"dataframe\">\n",
       "  <thead>\n",
       "    <tr style=\"text-align: right;\">\n",
       "      <th></th>\n",
       "      <th>402</th>\n",
       "      <th>405</th>\n",
       "      <th>407</th>\n",
       "      <th>410</th>\n",
       "      <th>412</th>\n",
       "      <th>415</th>\n",
       "      <th>417</th>\n",
       "      <th>420</th>\n",
       "      <th>422</th>\n",
       "      <th>425</th>\n",
       "      <th>...</th>\n",
       "      <th>2101</th>\n",
       "      <th>2103</th>\n",
       "      <th>2104</th>\n",
       "      <th>2105</th>\n",
       "      <th>2107</th>\n",
       "      <th>2108</th>\n",
       "      <th>2109</th>\n",
       "      <th>2111</th>\n",
       "      <th>2112</th>\n",
       "      <th>diagnostic</th>\n",
       "    </tr>\n",
       "  </thead>\n",
       "  <tbody>\n",
       "    <tr>\n",
       "      <th>0</th>\n",
       "      <td>-0.015237</td>\n",
       "      <td>-0.030607</td>\n",
       "      <td>-0.038309</td>\n",
       "      <td>-0.039078</td>\n",
       "      <td>-0.035809</td>\n",
       "      <td>-0.031176</td>\n",
       "      <td>-0.030395</td>\n",
       "      <td>-0.033311</td>\n",
       "      <td>-0.031603</td>\n",
       "      <td>-0.029029</td>\n",
       "      <td>...</td>\n",
       "      <td>-0.000553</td>\n",
       "      <td>0.000118</td>\n",
       "      <td>0.000566</td>\n",
       "      <td>0.001245</td>\n",
       "      <td>0.000846</td>\n",
       "      <td>0.001106</td>\n",
       "      <td>0.001005</td>\n",
       "      <td>0.000117</td>\n",
       "      <td>0.0</td>\n",
       "      <td>Healthy</td>\n",
       "    </tr>\n",
       "    <tr>\n",
       "      <th>1</th>\n",
       "      <td>-0.012098</td>\n",
       "      <td>-0.028164</td>\n",
       "      <td>-0.035189</td>\n",
       "      <td>-0.036138</td>\n",
       "      <td>-0.031050</td>\n",
       "      <td>-0.026015</td>\n",
       "      <td>-0.027539</td>\n",
       "      <td>-0.028084</td>\n",
       "      <td>-0.027075</td>\n",
       "      <td>-0.024482</td>\n",
       "      <td>...</td>\n",
       "      <td>-0.000998</td>\n",
       "      <td>0.000278</td>\n",
       "      <td>-0.000123</td>\n",
       "      <td>0.000384</td>\n",
       "      <td>0.001010</td>\n",
       "      <td>0.000583</td>\n",
       "      <td>-0.000397</td>\n",
       "      <td>-0.000160</td>\n",
       "      <td>0.0</td>\n",
       "      <td>Healthy</td>\n",
       "    </tr>\n",
       "    <tr>\n",
       "      <th>2</th>\n",
       "      <td>-0.013000</td>\n",
       "      <td>-0.029058</td>\n",
       "      <td>-0.035021</td>\n",
       "      <td>-0.034994</td>\n",
       "      <td>-0.033025</td>\n",
       "      <td>-0.028413</td>\n",
       "      <td>-0.028470</td>\n",
       "      <td>-0.029737</td>\n",
       "      <td>-0.029198</td>\n",
       "      <td>-0.027586</td>\n",
       "      <td>...</td>\n",
       "      <td>-0.001554</td>\n",
       "      <td>0.000050</td>\n",
       "      <td>0.000866</td>\n",
       "      <td>0.000877</td>\n",
       "      <td>0.000871</td>\n",
       "      <td>0.001093</td>\n",
       "      <td>0.001058</td>\n",
       "      <td>0.000614</td>\n",
       "      <td>0.0</td>\n",
       "      <td>Healthy</td>\n",
       "    </tr>\n",
       "    <tr>\n",
       "      <th>3</th>\n",
       "      <td>-0.015728</td>\n",
       "      <td>-0.034346</td>\n",
       "      <td>-0.045140</td>\n",
       "      <td>-0.047671</td>\n",
       "      <td>-0.044334</td>\n",
       "      <td>-0.040807</td>\n",
       "      <td>-0.040474</td>\n",
       "      <td>-0.041417</td>\n",
       "      <td>-0.040699</td>\n",
       "      <td>-0.036610</td>\n",
       "      <td>...</td>\n",
       "      <td>-0.001541</td>\n",
       "      <td>-0.000198</td>\n",
       "      <td>0.000202</td>\n",
       "      <td>0.001023</td>\n",
       "      <td>0.000625</td>\n",
       "      <td>0.000420</td>\n",
       "      <td>0.000543</td>\n",
       "      <td>-0.000071</td>\n",
       "      <td>0.0</td>\n",
       "      <td>Healthy</td>\n",
       "    </tr>\n",
       "    <tr>\n",
       "      <th>4</th>\n",
       "      <td>-0.020355</td>\n",
       "      <td>-0.045839</td>\n",
       "      <td>-0.060556</td>\n",
       "      <td>-0.065805</td>\n",
       "      <td>-0.064988</td>\n",
       "      <td>-0.062097</td>\n",
       "      <td>-0.061955</td>\n",
       "      <td>-0.064759</td>\n",
       "      <td>-0.066886</td>\n",
       "      <td>-0.065625</td>\n",
       "      <td>...</td>\n",
       "      <td>-0.000088</td>\n",
       "      <td>0.000891</td>\n",
       "      <td>0.000942</td>\n",
       "      <td>0.001294</td>\n",
       "      <td>0.001878</td>\n",
       "      <td>0.001739</td>\n",
       "      <td>0.001946</td>\n",
       "      <td>0.001301</td>\n",
       "      <td>0.0</td>\n",
       "      <td>Healthy</td>\n",
       "    </tr>\n",
       "  </tbody>\n",
       "</table>\n",
       "<p>5 rows × 892 columns</p>\n",
       "</div>"
      ],
      "text/plain": [
       "        402       405       407       410       412       415       417  \\\n",
       "0 -0.015237 -0.030607 -0.038309 -0.039078 -0.035809 -0.031176 -0.030395   \n",
       "1 -0.012098 -0.028164 -0.035189 -0.036138 -0.031050 -0.026015 -0.027539   \n",
       "2 -0.013000 -0.029058 -0.035021 -0.034994 -0.033025 -0.028413 -0.028470   \n",
       "3 -0.015728 -0.034346 -0.045140 -0.047671 -0.044334 -0.040807 -0.040474   \n",
       "4 -0.020355 -0.045839 -0.060556 -0.065805 -0.064988 -0.062097 -0.061955   \n",
       "\n",
       "        420       422       425  ...      2101      2103      2104      2105  \\\n",
       "0 -0.033311 -0.031603 -0.029029  ... -0.000553  0.000118  0.000566  0.001245   \n",
       "1 -0.028084 -0.027075 -0.024482  ... -0.000998  0.000278 -0.000123  0.000384   \n",
       "2 -0.029737 -0.029198 -0.027586  ... -0.001554  0.000050  0.000866  0.000877   \n",
       "3 -0.041417 -0.040699 -0.036610  ... -0.001541 -0.000198  0.000202  0.001023   \n",
       "4 -0.064759 -0.066886 -0.065625  ... -0.000088  0.000891  0.000942  0.001294   \n",
       "\n",
       "       2107      2108      2109      2111  2112  diagnostic  \n",
       "0  0.000846  0.001106  0.001005  0.000117   0.0     Healthy  \n",
       "1  0.001010  0.000583 -0.000397 -0.000160   0.0     Healthy  \n",
       "2  0.000871  0.001093  0.001058  0.000614   0.0     Healthy  \n",
       "3  0.000625  0.000420  0.000543 -0.000071   0.0     Healthy  \n",
       "4  0.001878  0.001739  0.001946  0.001301   0.0     Healthy  \n",
       "\n",
       "[5 rows x 892 columns]"
      ]
     },
     "execution_count": 166,
     "metadata": {},
     "output_type": "execute_result"
    }
   ],
   "source": [
    "# drop columns with all values zero: zeroFree_Covid_data\n",
    "zeroFree_covid_data = covid_data.loc[:, (covid_data != 0).any(axis=0)]\n",
    "zeroFree_covid_data.head()\n"
   ]
  },
  {
   "cell_type": "markdown",
   "metadata": {},
   "source": [
    "## End Data Wrangling\n",
    "At this point the data wrangling is completed and a cleaned data should be saved.\n",
    "### Save clean data"
   ]
  },
  {
   "cell_type": "code",
   "execution_count": 173,
   "metadata": {},
   "outputs": [
    {
     "name": "stdout",
     "output_type": "stream",
     "text": [
      "Writing file.  \"../data\\covid_data_cleaned.csv\"\n"
     ]
    }
   ],
   "source": [
    "# save the data to a new csv file\n",
    "datapath = '../data'\n",
    "save_file(zeroFree_covid_data, 'covid_data_cleaned.csv', datapath)"
   ]
  },
  {
   "cell_type": "markdown",
   "metadata": {},
   "source": [
    "# Exploratory data analysis"
   ]
  },
  {
   "cell_type": "markdown",
   "metadata": {},
   "source": [
    "## Visualizing high dimensional data"
   ]
  },
  {
   "cell_type": "markdown",
   "metadata": {},
   "source": [
    "### Scale the data\n",
    "Scale the numerical data"
   ]
  },
  {
   "cell_type": "code",
   "execution_count": 178,
   "metadata": {},
   "outputs": [
    {
     "data": {
      "text/html": [
       "<div>\n",
       "<style scoped>\n",
       "    .dataframe tbody tr th:only-of-type {\n",
       "        vertical-align: middle;\n",
       "    }\n",
       "\n",
       "    .dataframe tbody tr th {\n",
       "        vertical-align: top;\n",
       "    }\n",
       "\n",
       "    .dataframe thead th {\n",
       "        text-align: right;\n",
       "    }\n",
       "</style>\n",
       "<table border=\"1\" class=\"dataframe\">\n",
       "  <thead>\n",
       "    <tr style=\"text-align: right;\">\n",
       "      <th></th>\n",
       "      <th>402</th>\n",
       "      <th>405</th>\n",
       "      <th>407</th>\n",
       "      <th>410</th>\n",
       "      <th>412</th>\n",
       "      <th>415</th>\n",
       "      <th>417</th>\n",
       "      <th>420</th>\n",
       "      <th>422</th>\n",
       "      <th>425</th>\n",
       "      <th>...</th>\n",
       "      <th>2100</th>\n",
       "      <th>2101</th>\n",
       "      <th>2103</th>\n",
       "      <th>2104</th>\n",
       "      <th>2105</th>\n",
       "      <th>2107</th>\n",
       "      <th>2108</th>\n",
       "      <th>2109</th>\n",
       "      <th>2111</th>\n",
       "      <th>2112</th>\n",
       "    </tr>\n",
       "    <tr>\n",
       "      <th>diagnostic</th>\n",
       "      <th></th>\n",
       "      <th></th>\n",
       "      <th></th>\n",
       "      <th></th>\n",
       "      <th></th>\n",
       "      <th></th>\n",
       "      <th></th>\n",
       "      <th></th>\n",
       "      <th></th>\n",
       "      <th></th>\n",
       "      <th></th>\n",
       "      <th></th>\n",
       "      <th></th>\n",
       "      <th></th>\n",
       "      <th></th>\n",
       "      <th></th>\n",
       "      <th></th>\n",
       "      <th></th>\n",
       "      <th></th>\n",
       "      <th></th>\n",
       "      <th></th>\n",
       "    </tr>\n",
       "  </thead>\n",
       "  <tbody>\n",
       "    <tr>\n",
       "      <th>Healthy</th>\n",
       "      <td>-0.015237</td>\n",
       "      <td>-0.030607</td>\n",
       "      <td>-0.038309</td>\n",
       "      <td>-0.039078</td>\n",
       "      <td>-0.035809</td>\n",
       "      <td>-0.031176</td>\n",
       "      <td>-0.030395</td>\n",
       "      <td>-0.033311</td>\n",
       "      <td>-0.031603</td>\n",
       "      <td>-0.029029</td>\n",
       "      <td>...</td>\n",
       "      <td>-0.001685</td>\n",
       "      <td>-0.000553</td>\n",
       "      <td>0.000118</td>\n",
       "      <td>0.000566</td>\n",
       "      <td>0.001245</td>\n",
       "      <td>0.000846</td>\n",
       "      <td>0.001106</td>\n",
       "      <td>0.001005</td>\n",
       "      <td>0.000117</td>\n",
       "      <td>0.0</td>\n",
       "    </tr>\n",
       "    <tr>\n",
       "      <th>Healthy</th>\n",
       "      <td>-0.012098</td>\n",
       "      <td>-0.028164</td>\n",
       "      <td>-0.035189</td>\n",
       "      <td>-0.036138</td>\n",
       "      <td>-0.031050</td>\n",
       "      <td>-0.026015</td>\n",
       "      <td>-0.027539</td>\n",
       "      <td>-0.028084</td>\n",
       "      <td>-0.027075</td>\n",
       "      <td>-0.024482</td>\n",
       "      <td>...</td>\n",
       "      <td>-0.002085</td>\n",
       "      <td>-0.000998</td>\n",
       "      <td>0.000278</td>\n",
       "      <td>-0.000123</td>\n",
       "      <td>0.000384</td>\n",
       "      <td>0.001010</td>\n",
       "      <td>0.000583</td>\n",
       "      <td>-0.000397</td>\n",
       "      <td>-0.000160</td>\n",
       "      <td>0.0</td>\n",
       "    </tr>\n",
       "    <tr>\n",
       "      <th>Healthy</th>\n",
       "      <td>-0.013000</td>\n",
       "      <td>-0.029058</td>\n",
       "      <td>-0.035021</td>\n",
       "      <td>-0.034994</td>\n",
       "      <td>-0.033025</td>\n",
       "      <td>-0.028413</td>\n",
       "      <td>-0.028470</td>\n",
       "      <td>-0.029737</td>\n",
       "      <td>-0.029198</td>\n",
       "      <td>-0.027586</td>\n",
       "      <td>...</td>\n",
       "      <td>-0.002707</td>\n",
       "      <td>-0.001554</td>\n",
       "      <td>0.000050</td>\n",
       "      <td>0.000866</td>\n",
       "      <td>0.000877</td>\n",
       "      <td>0.000871</td>\n",
       "      <td>0.001093</td>\n",
       "      <td>0.001058</td>\n",
       "      <td>0.000614</td>\n",
       "      <td>0.0</td>\n",
       "    </tr>\n",
       "    <tr>\n",
       "      <th>Healthy</th>\n",
       "      <td>-0.015728</td>\n",
       "      <td>-0.034346</td>\n",
       "      <td>-0.045140</td>\n",
       "      <td>-0.047671</td>\n",
       "      <td>-0.044334</td>\n",
       "      <td>-0.040807</td>\n",
       "      <td>-0.040474</td>\n",
       "      <td>-0.041417</td>\n",
       "      <td>-0.040699</td>\n",
       "      <td>-0.036610</td>\n",
       "      <td>...</td>\n",
       "      <td>-0.003241</td>\n",
       "      <td>-0.001541</td>\n",
       "      <td>-0.000198</td>\n",
       "      <td>0.000202</td>\n",
       "      <td>0.001023</td>\n",
       "      <td>0.000625</td>\n",
       "      <td>0.000420</td>\n",
       "      <td>0.000543</td>\n",
       "      <td>-0.000071</td>\n",
       "      <td>0.0</td>\n",
       "    </tr>\n",
       "    <tr>\n",
       "      <th>Healthy</th>\n",
       "      <td>-0.020355</td>\n",
       "      <td>-0.045839</td>\n",
       "      <td>-0.060556</td>\n",
       "      <td>-0.065805</td>\n",
       "      <td>-0.064988</td>\n",
       "      <td>-0.062097</td>\n",
       "      <td>-0.061955</td>\n",
       "      <td>-0.064759</td>\n",
       "      <td>-0.066886</td>\n",
       "      <td>-0.065625</td>\n",
       "      <td>...</td>\n",
       "      <td>-0.002151</td>\n",
       "      <td>-0.000088</td>\n",
       "      <td>0.000891</td>\n",
       "      <td>0.000942</td>\n",
       "      <td>0.001294</td>\n",
       "      <td>0.001878</td>\n",
       "      <td>0.001739</td>\n",
       "      <td>0.001946</td>\n",
       "      <td>0.001301</td>\n",
       "      <td>0.0</td>\n",
       "    </tr>\n",
       "  </tbody>\n",
       "</table>\n",
       "<p>5 rows × 891 columns</p>\n",
       "</div>"
      ],
      "text/plain": [
       "                 402       405       407       410       412       415  \\\n",
       "diagnostic                                                               \n",
       "Healthy    -0.015237 -0.030607 -0.038309 -0.039078 -0.035809 -0.031176   \n",
       "Healthy    -0.012098 -0.028164 -0.035189 -0.036138 -0.031050 -0.026015   \n",
       "Healthy    -0.013000 -0.029058 -0.035021 -0.034994 -0.033025 -0.028413   \n",
       "Healthy    -0.015728 -0.034346 -0.045140 -0.047671 -0.044334 -0.040807   \n",
       "Healthy    -0.020355 -0.045839 -0.060556 -0.065805 -0.064988 -0.062097   \n",
       "\n",
       "                 417       420       422       425  ...      2100      2101  \\\n",
       "diagnostic                                          ...                       \n",
       "Healthy    -0.030395 -0.033311 -0.031603 -0.029029  ... -0.001685 -0.000553   \n",
       "Healthy    -0.027539 -0.028084 -0.027075 -0.024482  ... -0.002085 -0.000998   \n",
       "Healthy    -0.028470 -0.029737 -0.029198 -0.027586  ... -0.002707 -0.001554   \n",
       "Healthy    -0.040474 -0.041417 -0.040699 -0.036610  ... -0.003241 -0.001541   \n",
       "Healthy    -0.061955 -0.064759 -0.066886 -0.065625  ... -0.002151 -0.000088   \n",
       "\n",
       "                2103      2104      2105      2107      2108      2109  \\\n",
       "diagnostic                                                               \n",
       "Healthy     0.000118  0.000566  0.001245  0.000846  0.001106  0.001005   \n",
       "Healthy     0.000278 -0.000123  0.000384  0.001010  0.000583 -0.000397   \n",
       "Healthy     0.000050  0.000866  0.000877  0.000871  0.001093  0.001058   \n",
       "Healthy    -0.000198  0.000202  0.001023  0.000625  0.000420  0.000543   \n",
       "Healthy     0.000891  0.000942  0.001294  0.001878  0.001739  0.001946   \n",
       "\n",
       "                2111  2112  \n",
       "diagnostic                  \n",
       "Healthy     0.000117   0.0  \n",
       "Healthy    -0.000160   0.0  \n",
       "Healthy     0.000614   0.0  \n",
       "Healthy    -0.000071   0.0  \n",
       "Healthy     0.001301   0.0  \n",
       "\n",
       "[5 rows x 891 columns]"
      ]
     },
     "execution_count": 178,
     "metadata": {},
     "output_type": "execute_result"
    }
   ],
   "source": [
    "\n",
    "#Create a new dataframe, `covid_scale` from `covid_data` whilst setting the index to 'diagnostic'\n",
    "covid_data_scale = covid_data.set_index('diagnostic')\n",
    "\n",
    "#Save the column names (using the `columns` attribute) of `covid_data_scale` into the variable 'covid_data_columns'\n",
    "covid_data_columns = covid_data_scale.columns\n",
    "covid_data_scale.head()"
   ]
  },
  {
   "cell_type": "code",
   "execution_count": 182,
   "metadata": {},
   "outputs": [
    {
     "data": {
      "text/html": [
       "<div>\n",
       "<style scoped>\n",
       "    .dataframe tbody tr th:only-of-type {\n",
       "        vertical-align: middle;\n",
       "    }\n",
       "\n",
       "    .dataframe tbody tr th {\n",
       "        vertical-align: top;\n",
       "    }\n",
       "\n",
       "    .dataframe thead th {\n",
       "        text-align: right;\n",
       "    }\n",
       "</style>\n",
       "<table border=\"1\" class=\"dataframe\">\n",
       "  <thead>\n",
       "    <tr style=\"text-align: right;\">\n",
       "      <th></th>\n",
       "      <th>402</th>\n",
       "      <th>405</th>\n",
       "      <th>407</th>\n",
       "      <th>410</th>\n",
       "      <th>412</th>\n",
       "      <th>415</th>\n",
       "      <th>417</th>\n",
       "      <th>420</th>\n",
       "      <th>422</th>\n",
       "      <th>425</th>\n",
       "      <th>...</th>\n",
       "      <th>2100</th>\n",
       "      <th>2101</th>\n",
       "      <th>2103</th>\n",
       "      <th>2104</th>\n",
       "      <th>2105</th>\n",
       "      <th>2107</th>\n",
       "      <th>2108</th>\n",
       "      <th>2109</th>\n",
       "      <th>2111</th>\n",
       "      <th>2112</th>\n",
       "    </tr>\n",
       "  </thead>\n",
       "  <tbody>\n",
       "    <tr>\n",
       "      <th>0</th>\n",
       "      <td>0.029396</td>\n",
       "      <td>-0.169466</td>\n",
       "      <td>-0.307398</td>\n",
       "      <td>-0.298645</td>\n",
       "      <td>-0.220519</td>\n",
       "      <td>-0.089324</td>\n",
       "      <td>-0.057396</td>\n",
       "      <td>-0.199405</td>\n",
       "      <td>-0.153902</td>\n",
       "      <td>-0.143622</td>\n",
       "      <td>...</td>\n",
       "      <td>0.303745</td>\n",
       "      <td>0.267238</td>\n",
       "      <td>0.045011</td>\n",
       "      <td>-0.275664</td>\n",
       "      <td>0.052013</td>\n",
       "      <td>-0.617603</td>\n",
       "      <td>-0.261925</td>\n",
       "      <td>0.063182</td>\n",
       "      <td>-0.714883</td>\n",
       "      <td>-0.048027</td>\n",
       "    </tr>\n",
       "    <tr>\n",
       "      <th>1</th>\n",
       "      <td>0.675565</td>\n",
       "      <td>0.094517</td>\n",
       "      <td>-0.058681</td>\n",
       "      <td>-0.088368</td>\n",
       "      <td>0.110636</td>\n",
       "      <td>0.268129</td>\n",
       "      <td>0.137068</td>\n",
       "      <td>0.134956</td>\n",
       "      <td>0.123774</td>\n",
       "      <td>0.130376</td>\n",
       "      <td>...</td>\n",
       "      <td>-0.152282</td>\n",
       "      <td>-0.255200</td>\n",
       "      <td>0.224225</td>\n",
       "      <td>-1.041502</td>\n",
       "      <td>-0.875838</td>\n",
       "      <td>-0.441492</td>\n",
       "      <td>-0.882364</td>\n",
       "      <td>-1.648331</td>\n",
       "      <td>-1.110855</td>\n",
       "      <td>-0.048027</td>\n",
       "    </tr>\n",
       "    <tr>\n",
       "      <th>2</th>\n",
       "      <td>0.489933</td>\n",
       "      <td>-0.002139</td>\n",
       "      <td>-0.045266</td>\n",
       "      <td>-0.006537</td>\n",
       "      <td>-0.026791</td>\n",
       "      <td>0.102018</td>\n",
       "      <td>0.073686</td>\n",
       "      <td>0.029234</td>\n",
       "      <td>-0.006420</td>\n",
       "      <td>-0.056672</td>\n",
       "      <td>...</td>\n",
       "      <td>-0.859510</td>\n",
       "      <td>-0.907826</td>\n",
       "      <td>-0.031248</td>\n",
       "      <td>0.057741</td>\n",
       "      <td>-0.344697</td>\n",
       "      <td>-0.591279</td>\n",
       "      <td>-0.277629</td>\n",
       "      <td>0.127861</td>\n",
       "      <td>-0.004499</td>\n",
       "      <td>-0.048027</td>\n",
       "    </tr>\n",
       "    <tr>\n",
       "      <th>3</th>\n",
       "      <td>-0.071710</td>\n",
       "      <td>-0.573591</td>\n",
       "      <td>-0.852038</td>\n",
       "      <td>-0.913352</td>\n",
       "      <td>-0.813618</td>\n",
       "      <td>-0.756254</td>\n",
       "      <td>-0.743490</td>\n",
       "      <td>-0.717955</td>\n",
       "      <td>-0.711807</td>\n",
       "      <td>-0.600377</td>\n",
       "      <td>...</td>\n",
       "      <td>-1.468136</td>\n",
       "      <td>-0.893057</td>\n",
       "      <td>-0.309769</td>\n",
       "      <td>-0.680144</td>\n",
       "      <td>-0.187659</td>\n",
       "      <td>-0.856039</td>\n",
       "      <td>-1.075968</td>\n",
       "      <td>-0.501265</td>\n",
       "      <td>-0.983932</td>\n",
       "      <td>-0.048027</td>\n",
       "    </tr>\n",
       "    <tr>\n",
       "      <th>4</th>\n",
       "      <td>-1.024163</td>\n",
       "      <td>-1.815651</td>\n",
       "      <td>-2.081085</td>\n",
       "      <td>-2.210501</td>\n",
       "      <td>-2.250611</td>\n",
       "      <td>-2.230541</td>\n",
       "      <td>-2.205891</td>\n",
       "      <td>-2.211147</td>\n",
       "      <td>-2.317930</td>\n",
       "      <td>-2.348651</td>\n",
       "      <td>...</td>\n",
       "      <td>-0.227672</td>\n",
       "      <td>0.812778</td>\n",
       "      <td>0.912016</td>\n",
       "      <td>0.141430</td>\n",
       "      <td>0.104768</td>\n",
       "      <td>0.492144</td>\n",
       "      <td>0.489360</td>\n",
       "      <td>1.212373</td>\n",
       "      <td>0.977471</td>\n",
       "      <td>-0.048027</td>\n",
       "    </tr>\n",
       "  </tbody>\n",
       "</table>\n",
       "<p>5 rows × 891 columns</p>\n",
       "</div>"
      ],
      "text/plain": [
       "        402       405       407       410       412       415       417  \\\n",
       "0  0.029396 -0.169466 -0.307398 -0.298645 -0.220519 -0.089324 -0.057396   \n",
       "1  0.675565  0.094517 -0.058681 -0.088368  0.110636  0.268129  0.137068   \n",
       "2  0.489933 -0.002139 -0.045266 -0.006537 -0.026791  0.102018  0.073686   \n",
       "3 -0.071710 -0.573591 -0.852038 -0.913352 -0.813618 -0.756254 -0.743490   \n",
       "4 -1.024163 -1.815651 -2.081085 -2.210501 -2.250611 -2.230541 -2.205891   \n",
       "\n",
       "        420       422       425  ...      2100      2101      2103      2104  \\\n",
       "0 -0.199405 -0.153902 -0.143622  ...  0.303745  0.267238  0.045011 -0.275664   \n",
       "1  0.134956  0.123774  0.130376  ... -0.152282 -0.255200  0.224225 -1.041502   \n",
       "2  0.029234 -0.006420 -0.056672  ... -0.859510 -0.907826 -0.031248  0.057741   \n",
       "3 -0.717955 -0.711807 -0.600377  ... -1.468136 -0.893057 -0.309769 -0.680144   \n",
       "4 -2.211147 -2.317930 -2.348651  ... -0.227672  0.812778  0.912016  0.141430   \n",
       "\n",
       "       2105      2107      2108      2109      2111      2112  \n",
       "0  0.052013 -0.617603 -0.261925  0.063182 -0.714883 -0.048027  \n",
       "1 -0.875838 -0.441492 -0.882364 -1.648331 -1.110855 -0.048027  \n",
       "2 -0.344697 -0.591279 -0.277629  0.127861 -0.004499 -0.048027  \n",
       "3 -0.187659 -0.856039 -1.075968 -0.501265 -0.983932 -0.048027  \n",
       "4  0.104768  0.492144  0.489360  1.212373  0.977471 -0.048027  \n",
       "\n",
       "[5 rows x 891 columns]"
      ]
     },
     "execution_count": 182,
     "metadata": {},
     "output_type": "execute_result"
    }
   ],
   "source": [
    "# Now use `scale()` to scale the above dataframe: \n",
    "covid_data_scale = scale(covid_data_scale)\n",
    "type(covid_data_scale) # is numpy.ndarray\n",
    "\n",
    "# Convert the numpy array to a dataframe\n",
    "covid_data_scaled_df = pd.DataFrame(covid_data_scale, columns=covid_data_columns)\n",
    "covid_data_scaled_df.head()"
   ]
  },
  {
   "cell_type": "markdown",
   "metadata": {},
   "source": [
    "### PCA transformation"
   ]
  },
  {
   "cell_type": "code",
   "execution_count": 185,
   "metadata": {},
   "outputs": [],
   "source": [
    "covid_pca = PCA().fit(covid_data_scale)"
   ]
  },
  {
   "cell_type": "code",
   "execution_count": 199,
   "metadata": {},
   "outputs": [
    {
     "data": {
      "image/png": "[encoded data removed]",
      "text/plain": [
       "<Figure size 720x432 with 1 Axes>"
      ]
     },
     "metadata": {
      "needs_background": "light"
     },
     "output_type": "display_data"
    }
   ],
   "source": [
    "#Code task 6#\n",
    "#Call the `cumsum()` method on the 'explained_variance_ratio_' attribute of `state_pca` and\n",
    "#create a line plot to visualize the cumulative explained variance ratio with number of components\n",
    "#Set the xlabel to 'Component #', the ylabel to 'Cumulative ratio variance', and the\n",
    "#title to 'Cumulative variance ratio explained by PCA components for state/resort summary statistics'\n",
    "#Hint: remember the handy ';' at the end of the last plot call to suppress that untidy output\n",
    "plt.subplots(figsize=(10, 6))\n",
    "plt.plot(covid_pca.explained_variance_ratio_.cumsum())\n",
    "plt.xlabel('Component #')\n",
    "plt.ylabel('Cumulative ratio variance')\n",
    "plt.xlim(0.0,10)\n",
    "plt.ylim(0,0.9)\n",
    "\n",
    "plt.title('Cumulative variance ratio explained by PCA components for statistics');"
   ]
  },
  {
   "cell_type": "code",
   "execution_count": 201,
   "metadata": {},
   "outputs": [
    {
     "data": {
      "text/plain": [
       "(309, 309)"
      ]
     },
     "execution_count": 201,
     "metadata": {},
     "output_type": "execute_result"
    }
   ],
   "source": [
    "#Code task 7#\n",
    "#Call `state_pca`'s `transform()` method, passing in `state_summary_scale` as its argument\n",
    "covid_pca_x = covid_pca.transform(covid_data_scale)\n",
    "covid_pca_x.shape"
   ]
  },
  {
   "cell_type": "code",
   "execution_count": 175,
   "metadata": {},
   "outputs": [
    {
     "data": {
      "text/plain": [
       "(309, 892)"
      ]
     },
     "execution_count": 175,
     "metadata": {},
     "output_type": "execute_result"
    }
   ],
   "source": [
    "# Get number of columns and number of rows: ncols, nrows\n",
    "covid_data = zeroFree_covid_data\n",
    "ncols = covid_data.shape[1]\n",
    "nrows = covid_data.shape[0]\n",
    "nrows,ncols"
   ]
  },
  {
   "cell_type": "code",
   "execution_count": 176,
   "metadata": {},
   "outputs": [
    {
     "data": {
      "text/plain": [
       "['Healthy', 'SARS-CoV-2']"
      ]
     },
     "execution_count": 176,
     "metadata": {},
     "output_type": "execute_result"
    }
   ],
   "source": [
    "# Split data into dependent and independent variables\n",
    "X = np.matrix(covid_data.iloc[:,0:ncols-1].values)\n",
    "y = np.array(covid_data.iloc[:,ncols-1].values) \n",
    "labels = list(set(y))\n",
    "labels"
   ]
  },
  {
   "cell_type": "code",
   "execution_count": 69,
   "metadata": {},
   "outputs": [
    {
     "name": "stdout",
     "output_type": "stream",
     "text": [
      "(1, 900)\n"
     ]
    },
    {
     "data": {
      "image/png": "[encoded data removed]",
      "text/plain": [
       "<Figure size 432x288 with 1 Axes>"
      ]
     },
     "metadata": {
      "needs_background": "light"
     },
     "output_type": "display_data"
    }
   ],
   "source": [
    "X_names = list(map(float, covid_data.columns.values[0:900])) # X_names = np.array(list(da\n",
    "#print(X_names)\n",
    "for c in labels: \n",
    "#    if c == 'Healthy':\n",
    "        Xc = X[y == c]\n",
    "        yc = y[y == c] \n",
    "        plt.plot(X_names, np.mean(Xc,axis=0).tolist()[0], label=  str(c) +  \n",
    "                 ' (' + str(len(yc)) + ' samples)')\n",
    "        plt.legend()\n",
    "    \n",
    "plt.title(u'Averaged Spectrum for Healthy and CoVid\\n') ;  \n",
    "print(np.mean(X[y==1],axis=0).shape)"
   ]
  },
  {
   "cell_type": "code",
   "execution_count": 27,
   "metadata": {},
   "outputs": [],
   "source": [
    "# Encode the categorical data\n",
    "from sklearn.preprocessing import LabelEncoder\n",
    "labelencoder_y = LabelEncoder()\n",
    "covid_data.iloc[:,900] = labelencoder_y.fit_transform(covid_data.iloc[:,900].values)"
   ]
  },
  {
   "cell_type": "code",
   "execution_count": 28,
   "metadata": {},
   "outputs": [],
   "source": [
    "# split data into 75% training and 25% test\n",
    "from sklearn.model_selection import train_test_split\n",
    "X_train,X_test,y_train,y_test = train_test_split(X,y,test_size=0.25,random_state=0)"
   ]
  },
  {
   "cell_type": "code",
   "execution_count": 29,
   "metadata": {},
   "outputs": [],
   "source": [
    "# Scale the data \n",
    "from sklearn.preprocessing import StandardScaler\n",
    "sc = StandardScaler()\n",
    "X_tr_scaled = sc.fit_transform(X_train)\n",
    "X_te_scaled = sc.fit_transform(X_test)"
   ]
  },
  {
   "cell_type": "code",
   "execution_count": 30,
   "metadata": {},
   "outputs": [
    {
     "name": "stdout",
     "output_type": "stream",
     "text": [
      "[0] Logistic Regression Accuracy:  1.0\n",
      "[0] Decision Tree Accuracy:  1.0\n",
      "[0] Random Forest Accuracy:  1.0\n"
     ]
    }
   ],
   "source": [
    "# Compute a function for modeles\n",
    "def models(X_train,Y_train):\n",
    "        #logistic regression\n",
    "        from sklearn.linear_model import LogisticRegression\n",
    "        log = LogisticRegression(random_state=0)\n",
    "        log.fit(X_train,y_train)\n",
    "        #Decision tree\n",
    "        from sklearn.tree import DecisionTreeClassifier\n",
    "        tree = DecisionTreeClassifier(criterion='entropy',random_state=0)\n",
    "        tree.fit(X_train,y_train)\n",
    "        #Random Forest\n",
    "        from sklearn.ensemble import RandomForestClassifier\n",
    "        forest = RandomForestClassifier(n_estimators=10,criterion='entropy',random_state=0)\n",
    "        forest.fit(X_train,y_train)\n",
    "        #print the models accuracy\n",
    "        print('[0] Logistic Regression Accuracy: ', log.score(X_train,y_train))\n",
    "        print('[0] Decision Tree Accuracy: ', tree.score(X_train,y_train))\n",
    "        print('[0] Random Forest Accuracy: ', forest.score(X_train,y_train))\n",
    "        return log,tree,forest\n",
    "\n",
    "model = models(X_tr_scaled,y_train)"
   ]
  },
  {
   "cell_type": "code",
   "execution_count": 31,
   "metadata": {},
   "outputs": [
    {
     "name": "stdout",
     "output_type": "stream",
     "text": [
      "Model:  LogisticRegression\n",
      "Testing accuracy:  0.9615384615384616\n",
      "\n",
      "\n"
     ]
    },
    {
     "data": {
      "image/png": "[encoded data removed]",
      "text/plain": [
       "<Figure size 432x288 with 2 Axes>"
      ]
     },
     "metadata": {
      "needs_background": "light"
     },
     "output_type": "display_data"
    },
    {
     "name": "stdout",
     "output_type": "stream",
     "text": [
      "Model:  DecisionTreeClassifier\n",
      "Testing accuracy:  0.8717948717948718\n",
      "\n",
      "\n"
     ]
    },
    {
     "data": {
      "image/png": "[encoded data removed]",
      "text/plain": [
       "<Figure size 432x288 with 2 Axes>"
      ]
     },
     "metadata": {
      "needs_background": "light"
     },
     "output_type": "display_data"
    },
    {
     "name": "stdout",
     "output_type": "stream",
     "text": [
      "Model:  RandomForestClassifier\n",
      "Testing accuracy:  0.9871794871794872\n",
      "\n",
      "\n"
     ]
    },
    {
     "data": {
      "image/png": "[encoded data removed]",
      "text/plain": [
       "<Figure size 432x288 with 2 Axes>"
      ]
     },
     "metadata": {
      "needs_background": "light"
     },
     "output_type": "display_data"
    }
   ],
   "source": [
    "# Test on test data set\n",
    "\n",
    "from sklearn.metrics import confusion_matrix\n",
    "for i in range(len(model)):\n",
    "    model_label = str(model[i]).split('(')\n",
    "    cm = confusion_matrix(y_test,model[i].predict(X_te_scaled))\n",
    "    print('Model: ',model_label[0])\n",
    "    TP = cm[0][0]\n",
    "    TN = cm[1][1]\n",
    "    FN = cm[1][0]\n",
    "    FP = cm[0][1]\n",
    "    Accuracy = (TN + TP)/(TN+TP+FN+FP)\n",
    "    print('Testing accuracy: ', Accuracy)\n",
    "    print('\\n')\n",
    "    if i==2:\n",
    "        heatmap(cm, annot=True, fmt=\"g\", yticklabels=[\"Healthy\", \"SARS-CoV-19\"] ,xticklabels=[\"Healthy\", \"SARS-CoV-19\"])\n",
    "        plt.title(\"Confusion matrix for test-dataset\" +  \"\\n\"  + \"Model: \" + model_label[0])\n",
    "        plt.xlabel(\"Predicted\")\n",
    "        plt.ylabel(\"Expected\")\n",
    "        plt.show()\n",
    "    elif i == 0:\n",
    "        heatmap(cm, annot=True, fmt=\"g\", yticklabels=[\"Healthy\", \"SARS-CoV-19\"] ,xticklabels=[\"Healthy\", \"SARS-CoV-19\"])\n",
    "        plt.title(\"Confusion matrix for test-dataset\" +  \"\\n\"  + \"Model: \" + model_label[0])\n",
    "        plt.xlabel(\"Predicted\")\n",
    "        plt.ylabel(\"Expected\")\n",
    "        plt.show()\n",
    "    else:\n",
    "        heatmap(cm, annot=True, fmt=\"g\", yticklabels=[\"Healthy\", \"SARS-CoV-19\"] ,xticklabels=[\"Healthy\", \"SARS-CoV-19\"])\n",
    "        plt.title(\"Confusion matrix for test-dataset\" +  \"\\n\"  + \"Model: \" + model_label[0])\n",
    "        plt.xlabel(\"Predicted\")\n",
    "        plt.ylabel(\"Expected\")\n",
    "        plt.show()"
   ]
  },
  {
   "cell_type": "code",
   "execution_count": 32,
   "metadata": {},
   "outputs": [],
   "source": [
    "#Code task 22#\n",
    "#Define a pipeline comprising the steps:\n",
    "#SimpleImputer() with a strategy of 'median'\n",
    "#StandardScaler(),\n",
    "#and then RandomForestRegressor() with a random state of 47\n",
    "RF_pipe = make_pipeline(\n",
    "                      StandardScaler(),\n",
    "                      RandomForestClassifier(random_state=47)\n",
    "                        )"
   ]
  },
  {
   "cell_type": "code",
   "execution_count": 33,
   "metadata": {},
   "outputs": [],
   "source": [
    " #Code task 23#\n",
    "#Call `cross_validate` to estimate the pipeline's performance.\n",
    "#Pass it the random forest pipe object, `X_train` and `y_train`,\n",
    "#and get it to use 5-fold cross-validation\n",
    "rf_default_cv_results = cross_validate(RF_pipe, X_train, y_train, cv=5)"
   ]
  },
  {
   "cell_type": "code",
   "execution_count": 34,
   "metadata": {},
   "outputs": [
    {
     "data": {
      "text/plain": [
       "array([0.93617021, 0.91304348, 0.97826087, 0.82608696, 0.91304348])"
      ]
     },
     "execution_count": 34,
     "metadata": {},
     "output_type": "execute_result"
    }
   ],
   "source": [
    "rf_cv_scores = rf_default_cv_results['test_score']\n",
    "rf_cv_scores"
   ]
  },
  {
   "cell_type": "code",
   "execution_count": 35,
   "metadata": {},
   "outputs": [
    {
     "data": {
      "text/plain": [
       "(0.9133209990749306, 0.04969749603625906)"
      ]
     },
     "execution_count": 35,
     "metadata": {},
     "output_type": "execute_result"
    }
   ],
   "source": [
    "np.mean(rf_cv_scores), np.std(rf_cv_scores)"
   ]
  },
  {
   "cell_type": "code",
   "execution_count": 36,
   "metadata": {},
   "outputs": [
    {
     "data": {
      "text/plain": [
       "dict_keys(['memory', 'steps', 'verbose', 'standardscaler', 'randomforestclassifier', 'standardscaler__copy', 'standardscaler__with_mean', 'standardscaler__with_std', 'randomforestclassifier__bootstrap', 'randomforestclassifier__ccp_alpha', 'randomforestclassifier__class_weight', 'randomforestclassifier__criterion', 'randomforestclassifier__max_depth', 'randomforestclassifier__max_features', 'randomforestclassifier__max_leaf_nodes', 'randomforestclassifier__max_samples', 'randomforestclassifier__min_impurity_decrease', 'randomforestclassifier__min_impurity_split', 'randomforestclassifier__min_samples_leaf', 'randomforestclassifier__min_samples_split', 'randomforestclassifier__min_weight_fraction_leaf', 'randomforestclassifier__n_estimators', 'randomforestclassifier__n_jobs', 'randomforestclassifier__oob_score', 'randomforestclassifier__random_state', 'randomforestclassifier__verbose', 'randomforestclassifier__warm_start'])"
      ]
     },
     "execution_count": 36,
     "metadata": {},
     "output_type": "execute_result"
    }
   ],
   "source": [
    "RF_pipe.get_params().keys() "
   ]
  },
  {
   "cell_type": "code",
   "execution_count": 37,
   "metadata": {},
   "outputs": [
    {
     "data": {
      "text/plain": [
       "{'randomforestclassifier__n_estimators': [10,\n",
       "  12,\n",
       "  16,\n",
       "  20,\n",
       "  26,\n",
       "  33,\n",
       "  42,\n",
       "  54,\n",
       "  69,\n",
       "  88,\n",
       "  112,\n",
       "  143,\n",
       "  183,\n",
       "  233,\n",
       "  297,\n",
       "  379,\n",
       "  483,\n",
       "  615,\n",
       "  784,\n",
       "  1000],\n",
       " 'standardscaler': [StandardScaler(copy=True, with_mean=True, with_std=True),\n",
       "  None]}"
      ]
     },
     "execution_count": 37,
     "metadata": {},
     "output_type": "execute_result"
    }
   ],
   "source": [
    "n_est = [int(n) for n in np.logspace(start=1, stop=3, num=20)]\n",
    "grid_params = {\n",
    "            'randomforestclassifier__n_estimators': n_est,\n",
    "            'standardscaler': [StandardScaler(), None]\n",
    "            #'simpleimputer__strategy': ['mean', 'median']\n",
    "             }\n",
    "grid_params"
   ]
  },
  {
   "cell_type": "code",
   "execution_count": 38,
   "metadata": {},
   "outputs": [],
   "source": [
    "#Code task 24#\n",
    "#Call `GridSearchCV` with the random forest pipeline, passing in the above `grid_params`\n",
    "#dict for parameters to evaluate, 5-fold cross-validation, and all available CPU cores (if desired)\n",
    "rf_grid_cv = GridSearchCV(RF_pipe, param_grid=grid_params, cv=5, n_jobs=-1)"
   ]
  },
  {
   "cell_type": "code",
   "execution_count": 40,
   "metadata": {},
   "outputs": [
    {
     "data": {
      "text/plain": [
       "GridSearchCV(cv=5, error_score=nan,\n",
       "             estimator=Pipeline(memory=None,\n",
       "                                steps=[('standardscaler',\n",
       "                                        StandardScaler(copy=True,\n",
       "                                                       with_mean=True,\n",
       "                                                       with_std=True)),\n",
       "                                       ('randomforestclassifier',\n",
       "                                        RandomForestClassifier(bootstrap=True,\n",
       "                                                               ccp_alpha=0.0,\n",
       "                                                               class_weight=None,\n",
       "                                                               criterion='gini',\n",
       "                                                               max_depth=None,\n",
       "                                                               max_features='auto',\n",
       "                                                               max_leaf_nodes=None,\n",
       "                                                               max_samples=None,\n",
       "                                                               min_impurity_decrea...\n",
       "                                                               verbose=0,\n",
       "                                                               warm_start=False))],\n",
       "                                verbose=False),\n",
       "             iid='deprecated', n_jobs=-1,\n",
       "             param_grid={'randomforestclassifier__n_estimators': [10, 12, 16,\n",
       "                                                                  20, 26, 33,\n",
       "                                                                  42, 54, 69,\n",
       "                                                                  88, 112, 143,\n",
       "                                                                  183, 233, 297,\n",
       "                                                                  379, 483, 615,\n",
       "                                                                  784, 1000],\n",
       "                         'standardscaler': [StandardScaler(copy=True,\n",
       "                                                           with_mean=True,\n",
       "                                                           with_std=True),\n",
       "                                            None]},\n",
       "             pre_dispatch='2*n_jobs', refit=True, return_train_score=False,\n",
       "             scoring=None, verbose=0)"
      ]
     },
     "execution_count": 40,
     "metadata": {},
     "output_type": "execute_result"
    }
   ],
   "source": [
    "#Code task 25#\n",
    "#Now call the `GridSearchCV`'s `fit()` method with `X_train` and `y_train` as arguments\n",
    "#to actually start the grid search. This may take a minute or two.\n",
    "rf_grid_cv.fit(X_train, y_train)"
   ]
  },
  {
   "cell_type": "code",
   "execution_count": 41,
   "metadata": {},
   "outputs": [
    {
     "data": {
      "text/plain": [
       "{'randomforestclassifier__n_estimators': 784, 'standardscaler': None}"
      ]
     },
     "execution_count": 41,
     "metadata": {},
     "output_type": "execute_result"
    }
   ],
   "source": [
    "#Code task 26#\n",
    "#Print the best params (`best_params_` attribute) from the grid search\n",
    "rf_grid_cv.best_params_"
   ]
  },
  {
   "cell_type": "code",
   "execution_count": 42,
   "metadata": {},
   "outputs": [
    {
     "data": {
      "text/plain": [
       "array([0.93617021, 0.93478261, 0.97826087, 0.84782609, 0.95652174])"
      ]
     },
     "execution_count": 42,
     "metadata": {},
     "output_type": "execute_result"
    }
   ],
   "source": [
    "rf_best_cv_results = cross_validate(rf_grid_cv.best_estimator_, X_train, y_train, cv=5)\n",
    "rf_best_scores = rf_best_cv_results['test_score']\n",
    "rf_best_scores"
   ]
  },
  {
   "cell_type": "code",
   "execution_count": 43,
   "metadata": {},
   "outputs": [
    {
     "data": {
      "text/plain": [
       "(0.9307123034227567, 0.04436997668075442)"
      ]
     },
     "execution_count": 43,
     "metadata": {},
     "output_type": "execute_result"
    }
   ],
   "source": [
    "np.mean(rf_best_scores), np.std(rf_best_scores)"
   ]
  },
  {
   "cell_type": "code",
   "execution_count": 44,
   "metadata": {},
   "outputs": [],
   "source": [
    "X_df = pd.DataFrame(X_train)"
   ]
  },
  {
   "cell_type": "code",
   "execution_count": 45,
   "metadata": {},
   "outputs": [
    {
     "data": {
      "image/png": "[encoded data removed]",
      "text/plain": [
       "<Figure size 1080x360 with 1 Axes>"
      ]
     },
     "metadata": {
      "needs_background": "light"
     },
     "output_type": "display_data"
    }
   ],
   "source": [
    "#Code task 27#\n",
    "#Plot a barplot of the random forest's feature importances,\n",
    "#assigning the `feature_importances_` attribute of \n",
    "#`rf_grid_cv.best_estimator_.named_steps.randomforestregressor` to the name `imps` to then\n",
    "#create a pandas Series object of the feature importances, with the index given by the\n",
    "#training data column names, sorting the values in descending order\n",
    "#print(len(X_train.columns))\n",
    "plt.subplots(figsize=(15, 5))\n",
    "imps = rf_grid_cv.best_estimator_.named_steps.randomforestclassifier.feature_importances_\n",
    "#print(imps)\n",
    "rf_feat_imps = pd.Series(imps, index=X_df.columns).sort_values(ascending=False)\n",
    "rf_feat_imps.plot(kind='bar')\n",
    "plt.xlabel('features')\n",
    "plt.ylabel('importance')\n",
    "plt.title('Best random forest classifier feature importances');"
   ]
  },
  {
   "cell_type": "code",
   "execution_count": 46,
   "metadata": {},
   "outputs": [],
   "source": [
    "#Code task 22#\n",
    "#Define a pipeline comprising the steps:\n",
    "#SimpleImputer() with a strategy of 'median'\n",
    "#StandardScaler(),\n",
    "#and then RandomForestRegressor() with a random state of 47\n",
    "log_pipe = make_pipeline(\n",
    "                        StandardScaler(),\n",
    "                        LogisticRegression(random_state=47)\n",
    "                        )"
   ]
  },
  {
   "cell_type": "code",
   "execution_count": 47,
   "metadata": {},
   "outputs": [],
   "source": [
    "#Code task 23#\n",
    "  #Call `cross_validate` to estimate the pipeline's performance.\n",
    "   #Pass it the random forest pipe object, `X_train` and `y_train`,\n",
    "  #and get it to use 5-fold cross-validation\n",
    "log_default_cv_results = cross_validate(log_pipe, X_train, y_train, cv=5)"
   ]
  },
  {
   "cell_type": "code",
   "execution_count": 48,
   "metadata": {},
   "outputs": [
    {
     "data": {
      "text/plain": [
       "array([0.95744681, 0.93478261, 1.        , 0.93478261, 0.95652174])"
      ]
     },
     "execution_count": 48,
     "metadata": {},
     "output_type": "execute_result"
    }
   ],
   "source": [
    "log_cv_scores = log_default_cv_results['test_score']\n",
    "log_cv_scores"
   ]
  },
  {
   "cell_type": "code",
   "execution_count": 49,
   "metadata": {},
   "outputs": [
    {
     "data": {
      "text/plain": [
       "(0.9567067530064755, 0.02381689885375297)"
      ]
     },
     "execution_count": 49,
     "metadata": {},
     "output_type": "execute_result"
    }
   ],
   "source": [
    "np.mean(log_cv_scores), np.std(log_cv_scores)"
   ]
  },
  {
   "cell_type": "code",
   "execution_count": 50,
   "metadata": {},
   "outputs": [
    {
     "data": {
      "text/plain": [
       "{'logisticregression__C': [0, 0, 0, 0, 0, 2, 10, 46, 215, 1000],\n",
       " 'standardscaler': [StandardScaler(copy=True, with_mean=True, with_std=True),\n",
       "  None],\n",
       " 'logisticregression__penalty': ['l1', 'l2', 'elasticnet', 'none']}"
      ]
     },
     "execution_count": 50,
     "metadata": {},
     "output_type": "execute_result"
    }
   ],
   "source": [
    "#n_est = [int(n) for n in np.logspace(start=1, stop=7, num=50)]\n",
    "#grid={\"C\":np.logspace(-3,3,7), \"penalty\":[\"l1\",\"l2\"]}# l1 lasso l2 ridge\n",
    "n_C = [int(n) for n in np.logspace(-3,3,10)]\n",
    "penalty = ['l1', 'l2', 'elasticnet', 'none']\n",
    "grid_params = {\n",
    "                'logisticregression__C': n_C,\n",
    "                'standardscaler': [StandardScaler(), None],\n",
    "                'logisticregression__penalty': penalty\n",
    "                 #'simpleimputer__strategy': ['mean', 'median']\n",
    "              }\n",
    "grid_params"
   ]
  },
  {
   "cell_type": "code",
   "execution_count": 51,
   "metadata": {},
   "outputs": [
    {
     "data": {
      "text/plain": [
       "dict_keys(['memory', 'steps', 'verbose', 'standardscaler', 'logisticregression', 'standardscaler__copy', 'standardscaler__with_mean', 'standardscaler__with_std', 'logisticregression__C', 'logisticregression__class_weight', 'logisticregression__dual', 'logisticregression__fit_intercept', 'logisticregression__intercept_scaling', 'logisticregression__l1_ratio', 'logisticregression__max_iter', 'logisticregression__multi_class', 'logisticregression__n_jobs', 'logisticregression__penalty', 'logisticregression__random_state', 'logisticregression__solver', 'logisticregression__tol', 'logisticregression__verbose', 'logisticregression__warm_start'])"
      ]
     },
     "execution_count": 51,
     "metadata": {},
     "output_type": "execute_result"
    }
   ],
   "source": [
    "#Code task 24#\n",
    "#Call `GridSearchCV` with the logistic regression pipeline, passing in the above `grid_params`\n",
    "#dict for parameters to evaluate, 5-fold cross-validation, and all available CPU cores (if desired)\n",
    "log_grid_cv = GridSearchCV(log_pipe, param_grid=grid_params, cv=5, n_jobs=-1)\n",
    "log_pipe.get_params().keys()"
   ]
  },
  {
   "cell_type": "code",
   "execution_count": 52,
   "metadata": {},
   "outputs": [
    {
     "data": {
      "text/plain": [
       "GridSearchCV(cv=5, error_score=nan,\n",
       "             estimator=Pipeline(memory=None,\n",
       "                                steps=[('standardscaler',\n",
       "                                        StandardScaler(copy=True,\n",
       "                                                       with_mean=True,\n",
       "                                                       with_std=True)),\n",
       "                                       ('logisticregression',\n",
       "                                        LogisticRegression(C=1.0,\n",
       "                                                           class_weight=None,\n",
       "                                                           dual=False,\n",
       "                                                           fit_intercept=True,\n",
       "                                                           intercept_scaling=1,\n",
       "                                                           l1_ratio=None,\n",
       "                                                           max_iter=100,\n",
       "                                                           multi_class='auto',\n",
       "                                                           n_jobs=None,\n",
       "                                                           penalty='l2',\n",
       "                                                           random_state=47,\n",
       "                                                           so...\n",
       "                                                           warm_start=False))],\n",
       "                                verbose=False),\n",
       "             iid='deprecated', n_jobs=-1,\n",
       "             param_grid={'logisticregression__C': [0, 0, 0, 0, 0, 2, 10, 46,\n",
       "                                                   215, 1000],\n",
       "                         'logisticregression__penalty': ['l1', 'l2',\n",
       "                                                         'elasticnet', 'none'],\n",
       "                         'standardscaler': [StandardScaler(copy=True,\n",
       "                                                           with_mean=True,\n",
       "                                                           with_std=True),\n",
       "                                            None]},\n",
       "             pre_dispatch='2*n_jobs', refit=True, return_train_score=False,\n",
       "             scoring=None, verbose=0)"
      ]
     },
     "execution_count": 52,
     "metadata": {},
     "output_type": "execute_result"
    }
   ],
   "source": [
    "#Code task 25#\n",
    "#Now call the `GridSearchCV`'s `fit()` method with `X_train` and `y_train` as arguments\n",
    "#to actually start the grid search. This may take a minute or two.\n",
    "log_grid_cv.fit(X_train, y_train)"
   ]
  },
  {
   "cell_type": "code",
   "execution_count": 53,
   "metadata": {},
   "outputs": [
    {
     "data": {
      "text/plain": [
       "{'logisticregression__C': 1000,\n",
       " 'logisticregression__penalty': 'l2',\n",
       " 'standardscaler': StandardScaler(copy=True, with_mean=True, with_std=True)}"
      ]
     },
     "execution_count": 53,
     "metadata": {},
     "output_type": "execute_result"
    }
   ],
   "source": [
    "#Code task 26#\n",
    "#Print the best params (`best_params_` attribute) from the grid search\n",
    "log_grid_cv.best_params_"
   ]
  },
  {
   "cell_type": "code",
   "execution_count": 54,
   "metadata": {},
   "outputs": [
    {
     "data": {
      "text/plain": [
       "Pipeline(memory=None,\n",
       "         steps=[('standardscaler',\n",
       "                 StandardScaler(copy=True, with_mean=True, with_std=True)),\n",
       "                ('logisticregression',\n",
       "                 LogisticRegression(C=1000, class_weight=None, dual=False,\n",
       "                                    fit_intercept=True, intercept_scaling=1,\n",
       "                                    l1_ratio=None, max_iter=100,\n",
       "                                    multi_class='auto', n_jobs=None,\n",
       "                                    penalty='l2', random_state=47,\n",
       "                                    solver='lbfgs', tol=0.0001, verbose=0,\n",
       "                                    warm_start=False))],\n",
       "         verbose=False)"
      ]
     },
     "execution_count": 54,
     "metadata": {},
     "output_type": "execute_result"
    }
   ],
   "source": [
    "log_best_cv_results = cross_validate(log_grid_cv.best_estimator_, X_train, y_train, cv=5)\n",
    "log_best_scores = log_best_cv_results['test_score']\n",
    "log_best_scores\n",
    "log_grid_cv.best_estimator_"
   ]
  },
  {
   "cell_type": "code",
   "execution_count": 55,
   "metadata": {},
   "outputs": [
    {
     "data": {
      "text/plain": [
       "(0.9610545790934321, 0.021265331048492618)"
      ]
     },
     "execution_count": 55,
     "metadata": {},
     "output_type": "execute_result"
    }
   ],
   "source": [
    "np.mean(log_best_scores), np.std(log_best_scores)"
   ]
  },
  {
   "cell_type": "code",
   "execution_count": 56,
   "metadata": {},
   "outputs": [
    {
     "data": {
      "image/png": "[encoded data removed]",
      "text/plain": [
       "<Figure size 432x288 with 1 Axes>"
      ]
     },
     "metadata": {
      "needs_background": "light"
     },
     "output_type": "display_data"
    }
   ],
   "source": [
    "lab = [log_pipe, 'DT_pipe',RF_pipe]\n",
    "fractions = [.04, .05, .2, .25, .3, .35, .4, .45, .5, .6, .75, .8, 1.0]\n",
    "for i in range(0,len(lab),2):\n",
    "    train_size, train_scores, test_scores = learning_curve(lab[i], X_train, y_train, train_sizes=fractions)\n",
    "    train_scores_mean = np.mean(train_scores, axis=1)\n",
    "    train_scores_std = np.std(train_scores, axis=1)\n",
    "    test_scores_mean = np.mean(test_scores, axis=1)\n",
    "    test_scores_std = np.std(test_scores, axis=1)\n",
    "    plt.plot(figsize=(10,5))\n",
    "    plt.errorbar(train_size, test_scores_mean, yerr=test_scores_std, label=\"Model: \" + str(model[i]).split('(')[0])\n",
    "    plt.legend()\n",
    "    plt.xlabel('Training set size')\n",
    "    plt.ylabel('CV scores')\n",
    "    plt.title('Cross-validation score as training set size increases');"
   ]
  },
  {
   "cell_type": "code",
   "execution_count": 57,
   "metadata": {},
   "outputs": [],
   "source": [
    "#Code task 28#\n",
    "#This may not be \"production grade ML deployment\" practice, but adding some basic\n",
    "#information to your saved models can save your bacon in development.\n",
    "#Just what version model have you just loaded to reuse? What version of `sklearn`\n",
    "#created it? When did you make it?\n",
    "#Assign the pandas version number (`pd.__version__`) to the `pandas_version` attribute,\n",
    "#the numpy version (`np.__version__`) to the `numpy_version` attribute,\n",
    "#the sklearn version (`sklearn_version`) to the `sklearn_version` attribute,\n",
    "#and the current datetime (`datetime.datetime.now()`) to the `build_datetime` attribute\n",
    "#Let's call this model version '1.0'\n",
    "best_model = log_grid_cv.best_estimator_\n",
    "best_model.version = '1.0'\n",
    "best_model.pandas_version = pd.__version__\n",
    "best_model.numpy_version = np.__version__\n",
    "best_model.sklearn_version = sklearn_version\n",
    "#best_model.X_columns = [col for col in X_train.columns]\n",
    "best_model.build_datetime = datetime.datetime.now()"
   ]
  },
  {
   "cell_type": "code",
   "execution_count": 58,
   "metadata": {},
   "outputs": [
    {
     "name": "stdout",
     "output_type": "stream",
     "text": [
      "A file already exists with this name.\n",
      "\n",
      "Do you want to overwrite? (Y/N)Y\n",
      "Writing file.  \"../models\\raman_covid_diagnostic.pkl\"\n"
     ]
    }
   ],
   "source": [
    "# save the model\n",
    "from library.sb_utils import save_file\n",
    "\n",
    "modelpath = '../models'\n",
    "save_file(best_model, 'raman_covid_diagnostic.pkl', modelpath)"
   ]
  }
 ],
 "metadata": {
  "kernelspec": {
   "display_name": "Python 3",
   "language": "python",
   "name": "python3"
  },
  "language_info": {
   "codemirror_mode": {
    "name": "ipython",
    "version": 3
   },
   "file_extension": ".py",
   "mimetype": "text/x-python",
   "name": "python",
   "nbconvert_exporter": "python",
   "pygments_lexer": "ipython3",
   "version": "3.7.6"
  },
  "latex_envs": {
   "LaTeX_envs_menu_present": true,
   "autoclose": true,
   "autocomplete": true,
   "bibliofile": "biblio.bib",
   "cite_by": "apalike",
   "current_citInitial": 1,
   "eqLabelWithNumbers": true,
   "eqNumInitial": 1,
   "hotkeys": {
    "equation": "Ctrl-E",
    "itemize": "Ctrl-I"
   },
   "labels_anchors": false,
   "latex_user_defs": false,
   "report_style_numbering": false,
   "user_envs_cfg": false
  },
  "toc": {
   "base_numbering": 1,
   "nav_menu": {},
   "number_sections": true,
   "sideBar": true,
   "skip_h1_title": false,
   "title_cell": "Table of Contents",
   "title_sidebar": "Contents",
   "toc_cell": false,
   "toc_position": {},
   "toc_section_display": true,
   "toc_window_display": true
  }
 },
 "nbformat": 4,
 "nbformat_minor": 4
}
