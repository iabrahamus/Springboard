{
 "cells": [
  {
   "cell_type": "markdown",
   "metadata": {},
   "source": [
    "This exercise will require you to pull some data from the Qunadl API. Qaundl is currently the most widely used aggregator of financial market data."
   ]
  },
  {
   "cell_type": "markdown",
   "metadata": {},
   "source": [
    "As a first step, you will need to register a free account on the http://www.quandl.com website."
   ]
  },
  {
   "cell_type": "markdown",
   "metadata": {},
   "source": [
    "After you register, you will be provided with a unique API key, that you should store:"
   ]
  },
  {
   "cell_type": "code",
   "execution_count": 1,
   "metadata": {},
   "outputs": [],
   "source": [
    "# Store the API key as a string - according to PEP8, constants are always named in all upper case\n",
    "API_KEY = 'q6MvKu87Kh__aHqUn_71'"
   ]
  },
  {
   "cell_type": "markdown",
   "metadata": {},
   "source": [
    "Qaundl has a large number of data sources, but, unfortunately, most of them require a Premium subscription. Still, there are also a good number of free datasets."
   ]
  },
  {
   "cell_type": "markdown",
   "metadata": {},
   "source": [
    "For this mini project, we will focus on equities data from the Frankfurt Stock Exhange (FSE), which is available for free. We'll try and analyze the stock prices of a company called Carl Zeiss Meditec, which manufactures tools for eye examinations, as well as medical lasers for laser eye surgery: https://www.zeiss.com/meditec/int/home.html. The company is listed under the stock ticker AFX_X."
   ]
  },
  {
   "cell_type": "markdown",
   "metadata": {},
   "source": [
    "You can find the detailed Quandl API instructions here: https://docs.quandl.com/docs/time-series"
   ]
  },
  {
   "cell_type": "markdown",
   "metadata": {},
   "source": [
    "While there is a dedicated Python package for connecting to the Quandl API, we would prefer that you use the *requests* package, which can be easily downloaded using *pip* or *conda*. You can find the documentation for the package here: http://docs.python-requests.org/en/master/ "
   ]
  },
  {
   "cell_type": "markdown",
   "metadata": {},
   "source": [
    "Finally, apart from the *requests* package, you are encouraged to not use any third party Python packages, such as *pandas*, and instead focus on what's available in the Python Standard Library (the *collections* module might come in handy: https://pymotw.com/3/collections/ ).\n",
    "Also, since you won't have access to DataFrames, you are encouraged to us Python's native data structures - preferably dictionaries, though some questions can also be answered using lists.\n",
    "You can read more on these data structures here: https://docs.python.org/3/tutorial/datastructures.html"
   ]
  },
  {
   "cell_type": "markdown",
   "metadata": {},
   "source": [
    "Keep in mind that the JSON responses you will be getting from the API map almost one-to-one to Python's dictionaries. Unfortunately, they can be very nested, so make sure you read up on indexing dictionaries in the documentation provided above."
   ]
  },
  {
   "cell_type": "code",
   "execution_count": 2,
   "metadata": {},
   "outputs": [],
   "source": [
    "# First, import the relevant modules\n",
    "import requests\n",
    "import collections\n",
    "import pandas as pd\n",
    "import datetime as dt\n",
    "\n"
   ]
  },
  {
   "cell_type": "code",
   "execution_count": 3,
   "metadata": {},
   "outputs": [],
   "source": [
    "# Now, call the Quandl API and pull out a small sample of the data (only one day) to get a glimpse\n",
    "# into the JSON structure that will be returned\n",
    "\n",
    "# GET https://www.quandl.com/api/v3/datasets/{database_code}/{dataset_code}/data.{return_format}\n",
    "\n",
    "#url = \"https://www.quandl.com/api/v3/datatables/ETFG/FUND.json?ticker=AFX_X&api_key=YOURAPIKEY\"\n",
    "url = \"https://www.quandl.com/api/v3/datasets/XFRA/AGB2_UADJ?  \\\n",
    "    start_date=2018-11-30&end_date=2018-11-30&api_key=q6MvKu87Kh__aHqUn_71\"\n",
    "r = requests.get(url)\n",
    "#json = r.json()\n",
    "#print(r.text)\n",
    "\n",
    "#print(json['datatable']['data'][0])"
   ]
  },
  {
   "cell_type": "code",
   "execution_count": 20,
   "metadata": {},
   "outputs": [
    {
     "name": "stdout",
     "output_type": "stream",
     "text": [
      "<class 'str'> <class 'int'>\n",
      "<class 'str'> <class 'str'>\n",
      "<class 'str'> <class 'str'>\n",
      "<class 'str'> <class 'str'>\n",
      "<class 'str'> <class 'str'>\n",
      "<class 'str'> <class 'str'>\n",
      "<class 'str'> <class 'str'>\n",
      "<class 'str'> <class 'str'>\n",
      "<class 'str'> <class 'list'>\n",
      "<class 'str'> <class 'str'>\n",
      "<class 'str'> <class 'str'>\n",
      "<class 'str'> <class 'bool'>\n",
      "<class 'str'> <class 'NoneType'>\n",
      "<class 'str'> <class 'NoneType'>\n",
      "<class 'str'> <class 'NoneType'>\n",
      "<class 'str'> <class 'str'>\n",
      "<class 'str'> <class 'str'>\n",
      "<class 'str'> <class 'list'>\n",
      "<class 'str'> <class 'NoneType'>\n",
      "<class 'str'> <class 'NoneType'>\n",
      "<class 'str'> <class 'int'>\n"
     ]
    }
   ],
   "source": [
    "# Inspect the JSON structure of the object you created, and take note of how nested it is,\n",
    "# as well as the overall structure\n",
    "json = r.json()\n",
    "\n",
    "for key, value in json['dataset'].items():\n",
    "    \n",
    "    if isinstance(value,list):\n",
    "#        print(\"Key with list value\")\n",
    "        print(type(key),type(value))\n",
    "    else:\n",
    "        print(type(key),type(value))\n",
    "    \n",
    "#df.columns"
   ]
  },
  {
   "cell_type": "markdown",
   "metadata": {},
   "source": [
    "These are your tasks for this mini project:\n",
    "\n",
    "1. Collect data from the Franfurt Stock Exchange, for the ticker AFX_X, for the whole year 2017 (keep in mind that the date format is YYYY-MM-DD).\n",
    "2. Convert the returned JSON object into a Python dictionary.\n",
    "3. Calculate what the highest and lowest opening prices were for the stock in this period.\n",
    "4. What was the largest change in any one day (based on High and Low price)?\n",
    "5. What was the largest change between any two days (based on Closing Price)?\n",
    "6. What was the average daily trading volume during this year?\n",
    "7. (Optional) What was the median trading volume during this year. (Note: you may need to implement your own function for calculating the median.)"
   ]
  },
  {
   "cell_type": "code",
   "execution_count": 5,
   "metadata": {},
   "outputs": [
    {
     "name": "stdout",
     "output_type": "stream",
     "text": [
      "<class 'dict'>\n"
     ]
    }
   ],
   "source": [
    "# Get url for quandl api to extract Frankfurt Stock Exchange for the year 2017\n",
    "url_2017 = \"https://www.quandl.com/api/v3/datasets/XFRA/AGB2_UADJ?  \\\n",
    "    start_date=2017-01-01&end_date=2017-12-31&api_key=q6MvKu87Kh__aHqUn_71\"\n",
    "r = requests.get(url_2017)\n",
    "\n",
    "# Convert the returned JSON object into a Python dictionary\n",
    "dict_r = r.json()\n",
    "print(type(dict_r))\n",
    "\n",
    "# Get column names for pandas dataframe: column_names\n",
    "column_names = dict_r['dataset']['column_names']\n",
    "\n",
    "# Get data of the dataframe: data_array\n",
    "data_array = dict_r['dataset']['data']\n",
    "\n",
    "# Change dictionary o: dfbject into pandas dataframe: df\n",
    "df = pd.DataFrame(data_array,columns = column_names)\n",
    "\n"
   ]
  },
  {
   "cell_type": "code",
   "execution_count": 6,
   "metadata": {},
   "outputs": [
    {
     "data": {
      "text/plain": [
       "Date                  object\n",
       "Open                 float64\n",
       "High                 float64\n",
       "Low                  float64\n",
       "Close                float64\n",
       "Volume               float64\n",
       "Adjustment Factor    float64\n",
       "Adjustment Type      float64\n",
       "dtype: object"
      ]
     },
     "execution_count": 6,
     "metadata": {},
     "output_type": "execute_result"
    }
   ],
   "source": [
    "# Check the data type of the columns: df.dtypes\n",
    "df.dtypes"
   ]
  },
  {
   "cell_type": "code",
   "execution_count": 7,
   "metadata": {},
   "outputs": [
    {
     "data": {
      "text/html": [
       "<div>\n",
       "<style scoped>\n",
       "    .dataframe tbody tr th:only-of-type {\n",
       "        vertical-align: middle;\n",
       "    }\n",
       "\n",
       "    .dataframe tbody tr th {\n",
       "        vertical-align: top;\n",
       "    }\n",
       "\n",
       "    .dataframe thead th {\n",
       "        text-align: right;\n",
       "    }\n",
       "</style>\n",
       "<table border=\"1\" class=\"dataframe\">\n",
       "  <thead>\n",
       "    <tr style=\"text-align: right;\">\n",
       "      <th></th>\n",
       "      <th>Date</th>\n",
       "      <th>Open</th>\n",
       "      <th>High</th>\n",
       "      <th>Low</th>\n",
       "      <th>Close</th>\n",
       "      <th>Volume</th>\n",
       "      <th>Adjustment Factor</th>\n",
       "      <th>Adjustment Type</th>\n",
       "    </tr>\n",
       "  </thead>\n",
       "  <tbody>\n",
       "    <tr>\n",
       "      <th>2864</th>\n",
       "      <td>2007-01-08</td>\n",
       "      <td>73.10</td>\n",
       "      <td>73.10</td>\n",
       "      <td>73.05</td>\n",
       "      <td>73.05</td>\n",
       "      <td>8.0</td>\n",
       "      <td>NaN</td>\n",
       "      <td>NaN</td>\n",
       "    </tr>\n",
       "    <tr>\n",
       "      <th>2865</th>\n",
       "      <td>2007-01-05</td>\n",
       "      <td>73.46</td>\n",
       "      <td>73.46</td>\n",
       "      <td>73.46</td>\n",
       "      <td>73.46</td>\n",
       "      <td>50.0</td>\n",
       "      <td>NaN</td>\n",
       "      <td>NaN</td>\n",
       "    </tr>\n",
       "    <tr>\n",
       "      <th>2866</th>\n",
       "      <td>2007-01-04</td>\n",
       "      <td>74.57</td>\n",
       "      <td>74.57</td>\n",
       "      <td>74.01</td>\n",
       "      <td>74.01</td>\n",
       "      <td>13.0</td>\n",
       "      <td>NaN</td>\n",
       "      <td>NaN</td>\n",
       "    </tr>\n",
       "    <tr>\n",
       "      <th>2867</th>\n",
       "      <td>2007-01-03</td>\n",
       "      <td>74.10</td>\n",
       "      <td>74.10</td>\n",
       "      <td>73.85</td>\n",
       "      <td>73.85</td>\n",
       "      <td>30.0</td>\n",
       "      <td>NaN</td>\n",
       "      <td>NaN</td>\n",
       "    </tr>\n",
       "    <tr>\n",
       "      <th>2868</th>\n",
       "      <td>2007-01-02</td>\n",
       "      <td>73.60</td>\n",
       "      <td>74.30</td>\n",
       "      <td>73.60</td>\n",
       "      <td>74.30</td>\n",
       "      <td>150.0</td>\n",
       "      <td>NaN</td>\n",
       "      <td>NaN</td>\n",
       "    </tr>\n",
       "  </tbody>\n",
       "</table>\n",
       "</div>"
      ],
      "text/plain": [
       "            Date   Open   High    Low  Close  Volume  Adjustment Factor  \\\n",
       "2864  2007-01-08  73.10  73.10  73.05  73.05     8.0                NaN   \n",
       "2865  2007-01-05  73.46  73.46  73.46  73.46    50.0                NaN   \n",
       "2866  2007-01-04  74.57  74.57  74.01  74.01    13.0                NaN   \n",
       "2867  2007-01-03  74.10  74.10  73.85  73.85    30.0                NaN   \n",
       "2868  2007-01-02  73.60  74.30  73.60  74.30   150.0                NaN   \n",
       "\n",
       "      Adjustment Type  \n",
       "2864              NaN  \n",
       "2865              NaN  \n",
       "2866              NaN  \n",
       "2867              NaN  \n",
       "2868              NaN  "
      ]
     },
     "execution_count": 7,
     "metadata": {},
     "output_type": "execute_result"
    }
   ],
   "source": [
    "# Check to see if we have data that is not for 2017:\n",
    "df.tail()"
   ]
  },
  {
   "cell_type": "markdown",
   "metadata": {},
   "source": [
    "It looks like our dataframe consisted of data for years beyond the year 2017. As can be seen above we have data for the year 2007. To ensure we are only concentrating for the year 2017, we need to use boolean filter to get data for 2017 only."
   ]
  },
  {
   "cell_type": "code",
   "execution_count": 8,
   "metadata": {},
   "outputs": [
    {
     "data": {
      "text/html": [
       "<div>\n",
       "<style scoped>\n",
       "    .dataframe tbody tr th:only-of-type {\n",
       "        vertical-align: middle;\n",
       "    }\n",
       "\n",
       "    .dataframe tbody tr th {\n",
       "        vertical-align: top;\n",
       "    }\n",
       "\n",
       "    .dataframe thead th {\n",
       "        text-align: right;\n",
       "    }\n",
       "</style>\n",
       "<table border=\"1\" class=\"dataframe\">\n",
       "  <thead>\n",
       "    <tr style=\"text-align: right;\">\n",
       "      <th></th>\n",
       "      <th>Date</th>\n",
       "      <th>Open</th>\n",
       "      <th>High</th>\n",
       "      <th>Low</th>\n",
       "      <th>Close</th>\n",
       "      <th>Volume</th>\n",
       "      <th>Adjustment Factor</th>\n",
       "      <th>Adjustment Type</th>\n",
       "      <th>Year</th>\n",
       "    </tr>\n",
       "  </thead>\n",
       "  <tbody>\n",
       "    <tr>\n",
       "      <th>0</th>\n",
       "      <td>2017-12-29</td>\n",
       "      <td>103.333</td>\n",
       "      <td>103.999</td>\n",
       "      <td>103.288</td>\n",
       "      <td>103.288</td>\n",
       "      <td>310.0</td>\n",
       "      <td>NaN</td>\n",
       "      <td>NaN</td>\n",
       "      <td>2017</td>\n",
       "    </tr>\n",
       "    <tr>\n",
       "      <th>1</th>\n",
       "      <td>2017-12-28</td>\n",
       "      <td>102.389</td>\n",
       "      <td>102.389</td>\n",
       "      <td>102.389</td>\n",
       "      <td>102.389</td>\n",
       "      <td>0.0</td>\n",
       "      <td>NaN</td>\n",
       "      <td>NaN</td>\n",
       "      <td>2017</td>\n",
       "    </tr>\n",
       "    <tr>\n",
       "      <th>2</th>\n",
       "      <td>2017-12-27</td>\n",
       "      <td>102.574</td>\n",
       "      <td>103.600</td>\n",
       "      <td>102.574</td>\n",
       "      <td>103.600</td>\n",
       "      <td>404.0</td>\n",
       "      <td>NaN</td>\n",
       "      <td>NaN</td>\n",
       "      <td>2017</td>\n",
       "    </tr>\n",
       "    <tr>\n",
       "      <th>3</th>\n",
       "      <td>2017-12-26</td>\n",
       "      <td>102.958</td>\n",
       "      <td>102.958</td>\n",
       "      <td>102.958</td>\n",
       "      <td>102.958</td>\n",
       "      <td>0.0</td>\n",
       "      <td>NaN</td>\n",
       "      <td>NaN</td>\n",
       "      <td>2017</td>\n",
       "    </tr>\n",
       "    <tr>\n",
       "      <th>4</th>\n",
       "      <td>2017-12-25</td>\n",
       "      <td>102.958</td>\n",
       "      <td>102.958</td>\n",
       "      <td>102.958</td>\n",
       "      <td>102.958</td>\n",
       "      <td>0.0</td>\n",
       "      <td>NaN</td>\n",
       "      <td>NaN</td>\n",
       "      <td>2017</td>\n",
       "    </tr>\n",
       "  </tbody>\n",
       "</table>\n",
       "</div>"
      ],
      "text/plain": [
       "         Date     Open     High      Low    Close  Volume  Adjustment Factor  \\\n",
       "0  2017-12-29  103.333  103.999  103.288  103.288   310.0                NaN   \n",
       "1  2017-12-28  102.389  102.389  102.389  102.389     0.0                NaN   \n",
       "2  2017-12-27  102.574  103.600  102.574  103.600   404.0                NaN   \n",
       "3  2017-12-26  102.958  102.958  102.958  102.958     0.0                NaN   \n",
       "4  2017-12-25  102.958  102.958  102.958  102.958     0.0                NaN   \n",
       "\n",
       "   Adjustment Type  Year  \n",
       "0              NaN  2017  \n",
       "1              NaN  2017  \n",
       "2              NaN  2017  \n",
       "3              NaN  2017  \n",
       "4              NaN  2017  "
      ]
     },
     "execution_count": 8,
     "metadata": {},
     "output_type": "execute_result"
    }
   ],
   "source": [
    "df['Year'] = pd.DatetimeIndex(df['Date']).year\n",
    "df.head()"
   ]
  },
  {
   "cell_type": "code",
   "execution_count": 9,
   "metadata": {},
   "outputs": [
    {
     "data": {
      "text/plain": [
       "array([2017, 2016, 2015, 2014, 2013, 2012, 2011, 2010, 2009, 2008, 2007],\n",
       "      dtype=int64)"
      ]
     },
     "execution_count": 9,
     "metadata": {},
     "output_type": "execute_result"
    }
   ],
   "source": [
    "df['Year'].unique()"
   ]
  },
  {
   "cell_type": "code",
   "execution_count": 10,
   "metadata": {},
   "outputs": [
    {
     "data": {
      "text/plain": [
       "array([2017], dtype=int64)"
      ]
     },
     "execution_count": 10,
     "metadata": {},
     "output_type": "execute_result"
    }
   ],
   "source": [
    "bool_df = df['Year'] == 2017\n",
    "df_2017 = df[bool_df]\n",
    "df_2017['Year'].unique()\n",
    "#df_2017['Date'].unique()"
   ]
  },
  {
   "cell_type": "code",
   "execution_count": 11,
   "metadata": {},
   "outputs": [
    {
     "data": {
      "text/plain": [
       "Date                 260\n",
       "Open                 260\n",
       "High                 260\n",
       "Low                  260\n",
       "Close                260\n",
       "Volume               260\n",
       "Adjustment Factor      2\n",
       "Adjustment Type        2\n",
       "Year                 260\n",
       "dtype: int64"
      ]
     },
     "execution_count": 11,
     "metadata": {},
     "output_type": "execute_result"
    }
   ],
   "source": [
    "# Check for missing values.\n",
    "df_2017.count()"
   ]
  },
  {
   "cell_type": "markdown",
   "metadata": {},
   "source": [
    "It looks like columns `Adjustment Factor` and `Adjustment Type` are missing most values and should be dropped. Other columns are not missing any value at all."
   ]
  },
  {
   "cell_type": "code",
   "execution_count": 12,
   "metadata": {},
   "outputs": [],
   "source": [
    "df_2017 = df_2017.dropna(axis=1)"
   ]
  },
  {
   "cell_type": "code",
   "execution_count": 13,
   "metadata": {},
   "outputs": [
    {
     "data": {
      "text/html": [
       "<div>\n",
       "<style scoped>\n",
       "    .dataframe tbody tr th:only-of-type {\n",
       "        vertical-align: middle;\n",
       "    }\n",
       "\n",
       "    .dataframe tbody tr th {\n",
       "        vertical-align: top;\n",
       "    }\n",
       "\n",
       "    .dataframe thead th {\n",
       "        text-align: right;\n",
       "    }\n",
       "</style>\n",
       "<table border=\"1\" class=\"dataframe\">\n",
       "  <thead>\n",
       "    <tr style=\"text-align: right;\">\n",
       "      <th></th>\n",
       "      <th>Date</th>\n",
       "      <th>Open</th>\n",
       "      <th>High</th>\n",
       "      <th>Low</th>\n",
       "      <th>Close</th>\n",
       "      <th>Volume</th>\n",
       "      <th>Year</th>\n",
       "    </tr>\n",
       "  </thead>\n",
       "  <tbody>\n",
       "    <tr>\n",
       "      <th>0</th>\n",
       "      <td>2017-12-29</td>\n",
       "      <td>103.333</td>\n",
       "      <td>103.999</td>\n",
       "      <td>103.288</td>\n",
       "      <td>103.288</td>\n",
       "      <td>310.0</td>\n",
       "      <td>2017</td>\n",
       "    </tr>\n",
       "    <tr>\n",
       "      <th>1</th>\n",
       "      <td>2017-12-28</td>\n",
       "      <td>102.389</td>\n",
       "      <td>102.389</td>\n",
       "      <td>102.389</td>\n",
       "      <td>102.389</td>\n",
       "      <td>0.0</td>\n",
       "      <td>2017</td>\n",
       "    </tr>\n",
       "    <tr>\n",
       "      <th>2</th>\n",
       "      <td>2017-12-27</td>\n",
       "      <td>102.574</td>\n",
       "      <td>103.600</td>\n",
       "      <td>102.574</td>\n",
       "      <td>103.600</td>\n",
       "      <td>404.0</td>\n",
       "      <td>2017</td>\n",
       "    </tr>\n",
       "    <tr>\n",
       "      <th>3</th>\n",
       "      <td>2017-12-26</td>\n",
       "      <td>102.958</td>\n",
       "      <td>102.958</td>\n",
       "      <td>102.958</td>\n",
       "      <td>102.958</td>\n",
       "      <td>0.0</td>\n",
       "      <td>2017</td>\n",
       "    </tr>\n",
       "    <tr>\n",
       "      <th>4</th>\n",
       "      <td>2017-12-25</td>\n",
       "      <td>102.958</td>\n",
       "      <td>102.958</td>\n",
       "      <td>102.958</td>\n",
       "      <td>102.958</td>\n",
       "      <td>0.0</td>\n",
       "      <td>2017</td>\n",
       "    </tr>\n",
       "  </tbody>\n",
       "</table>\n",
       "</div>"
      ],
      "text/plain": [
       "         Date     Open     High      Low    Close  Volume  Year\n",
       "0  2017-12-29  103.333  103.999  103.288  103.288   310.0  2017\n",
       "1  2017-12-28  102.389  102.389  102.389  102.389     0.0  2017\n",
       "2  2017-12-27  102.574  103.600  102.574  103.600   404.0  2017\n",
       "3  2017-12-26  102.958  102.958  102.958  102.958     0.0  2017\n",
       "4  2017-12-25  102.958  102.958  102.958  102.958     0.0  2017"
      ]
     },
     "execution_count": 13,
     "metadata": {},
     "output_type": "execute_result"
    }
   ],
   "source": [
    "df_2017.head()"
   ]
  },
  {
   "cell_type": "code",
   "execution_count": 14,
   "metadata": {},
   "outputs": [
    {
     "name": "stdout",
     "output_type": "stream",
     "text": [
      "highest opening price:  126.0\n",
      "lowest opening price:  35.73\n"
     ]
    }
   ],
   "source": [
    "# 3. Calculate what the highest and lowest opening prices were for the stock in this period.\n",
    "\n",
    "# Obtain highest opening price: high_open\n",
    "high_open = df['Open'].max()\n",
    "print('highest opening price: ', high_open)\n",
    "\n",
    "# Obtain lowes opening price: low_open\n",
    "low_open = df['Open'].min()\n",
    "print('lowest opening price: ',low_open)"
   ]
  },
  {
   "cell_type": "code",
   "execution_count": 15,
   "metadata": {},
   "outputs": [
    {
     "name": "stdout",
     "output_type": "stream",
     "text": [
      "The larges change in any one day is:  11.358000000000004\n"
     ]
    },
    {
     "data": {
      "text/plain": [
       "(260, 10)"
      ]
     },
     "execution_count": 15,
     "metadata": {},
     "output_type": "execute_result"
    }
   ],
   "source": [
    "# What was the largest change in any one day (based on High and Low price)?\n",
    "df_2017.loc[:,'Month'] = pd.DatetimeIndex(df_2017.loc[:,'Date']).month\n",
    "df_2017.loc[:,'Day'] = pd.DatetimeIndex(df_2017.loc[:,'Date']).day\n",
    "df_2017.head()\n",
    "df_2017.sort_values(by=['Month','Day'],ascending=False)\n",
    "\n",
    "# Get daily difference column: df_2017[daily_diff] = High - Low\n",
    "df_2017.loc[:,'daily_diff'] = df_2017.loc[::,'High'] - df_2017.loc[:,'Low']\n",
    "\n",
    "#Get the largest daily difference: max_daily_change\n",
    "max_daily_change = df_2017.loc[:,'daily_diff'].max()\n",
    "print('The larges change in any one day is: ', max_daily_change)\n",
    "df_2017.shape"
   ]
  },
  {
   "cell_type": "code",
   "execution_count": 16,
   "metadata": {},
   "outputs": [
    {
     "name": "stdout",
     "output_type": "stream",
     "text": [
      "The largest change between any two days based on closing Price is: 10.304999999999993\n"
     ]
    }
   ],
   "source": [
    "# 5. What was the largest change between any two days (based on Closing Price)?: max_closing\n",
    "df_2017.loc[:,'max_close'] = df_2017.loc[:,'Close'] - df_2017.loc[:,'Open']\n",
    "max_closing = df_2017.loc[:,'max_close'].max()\n",
    "print('The largest change between any two days based on closing Price is:', max_closing)\n"
   ]
  },
  {
   "cell_type": "code",
   "execution_count": 17,
   "metadata": {},
   "outputs": [
    {
     "name": "stdout",
     "output_type": "stream",
     "text": [
      "The average daily trading volume during this year is: 131.3576923076923\n"
     ]
    }
   ],
   "source": [
    "# 6. What was the average daily trading volume during this year? : ave_volume\n",
    "ave_volume = df_2017['Volume'].mean()\n",
    "print('The average daily trading volume during this year is:',ave_volume)\n"
   ]
  },
  {
   "cell_type": "code",
   "execution_count": 18,
   "metadata": {},
   "outputs": [
    {
     "name": "stdout",
     "output_type": "stream",
     "text": [
      "The median trading volume during this year is: 50.0\n"
     ]
    }
   ],
   "source": [
    "#7. (Optional) What was the median trading volume during this year : median_volume\n",
    "median_volume = df_2017['Volume'].median()\n",
    "print('The median trading volume during this year is:',median_volume)\n",
    "\n"
   ]
  }
 ],
 "metadata": {
  "kernelspec": {
   "display_name": "Python 3",
   "language": "python",
   "name": "python3"
  },
  "language_info": {
   "codemirror_mode": {
    "name": "ipython",
    "version": 3
   },
   "file_extension": ".py",
   "mimetype": "text/x-python",
   "name": "python",
   "nbconvert_exporter": "python",
   "pygments_lexer": "ipython3",
   "version": "3.8.5"
  },
  "latex_envs": {
   "LaTeX_envs_menu_present": true,
   "autoclose": true,
   "autocomplete": true,
   "bibliofile": "biblio.bib",
   "cite_by": "apalike",
   "current_citInitial": 1,
   "eqLabelWithNumbers": true,
   "eqNumInitial": 1,
   "hotkeys": {
    "equation": "Ctrl-E",
    "itemize": "Ctrl-I"
   },
   "labels_anchors": false,
   "latex_user_defs": false,
   "report_style_numbering": false,
   "user_envs_cfg": false
  },
  "toc": {
   "base_numbering": 1,
   "nav_menu": {},
   "number_sections": true,
   "sideBar": true,
   "skip_h1_title": false,
   "title_cell": "Table of Contents",
   "title_sidebar": "Contents",
   "toc_cell": false,
   "toc_position": {},
   "toc_section_display": true,
   "toc_window_display": false
  }
 },
 "nbformat": 4,
 "nbformat_minor": 2
}
