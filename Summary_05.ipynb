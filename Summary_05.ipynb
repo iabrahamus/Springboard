{
 "cells": [
  {
   "cell_type": "markdown",
   "metadata": {},
   "source": [
    "Q: 1 Write a summary of the results of modeling these scenarios. Start by starting the current position; how much does Big Mountain currently charge? What does your modelling suggest for a ticket price that could be supported in the marketplace by Big Mountain's facilities? How would you approach suggesting such a change to the business leadership? Discuss the additional operating cost of the new chair lift per ticket (on the basis of each visitor on average buying 5 day tickets) in the context of raising prices to cover this. For future improvements, state which, if any, of the modeled scenarios you'd recommend for further consideration. Suggest how the business might test, and progress, with any run closures."
   ]
  },
  {
   "cell_type": "markdown",
   "metadata": {},
   "source": [
    "In this notebook we employed our developed model for ski resort ticket pricing to investigate what ticket price might be supported by Big Mountain's facilities and effect of changes of resort parameters on ticket price. Assuming all resorts set thier ticket prices according to what the market supports, our model suggests Big Mountain's Resort current ticket price ($\\$ 81.00$) could be increased to $\\$ 94.22$. It looks like our resort of interest is underpricing, but it is also possible some resorts are \"overpriced\" while others are \"underpriced. Moreover, key data such as **operating costs** is also missing, but would have helped in price ticket decisions before coming to conclusions of under/over pricing.\n",
    "\n",
    "The market context of Big Mountain's features that deemed important in our modeling should be analyzed and investigated to gain insight in how the ticket pricing could be decided. In what follows the prominent features as well as brief description of the standing of Big Mountain on the resort distribution is listed:\n",
    "\n",
    "* <font color = blue> vertical_drop </font>  -- Decent vertical drop (few resorts have greater) \n",
    "* <font color = blue> Snow Making_ac</font> -- Very high up the league of snow making area.\n",
    "* <font color = blue>total_chairs</font>   -- Among resorts with highest number of total chairs. Outliers are greater. \n",
    "* <font color = blue>fastQuads</font>      -- Has 3 fast quads (Most resorts do not have fast quads)\n",
    "* <font color = blue>Runs</font>           -- Is on the high end of the distribution\n",
    "* <font color = blue>LongestRun_mi</font>  -- Has one of th longest runs (Half as long as the highest)\n",
    "* <font color = blue>trams</font>         -- 0 Trams. So are the majority of resorts.\n",
    "* <font color = blue>SkiableTerrain_ac </font>-- Among the resorts with the largest amount of skiable terrain\n",
    "\n",
    "Next, we considered a number of scenarios for supporting the ticket price. The considered scenarios were constrained by the business which has shortlisted the following options.\n",
    "\n",
    "1. Permanently closing down up to 10 of the least used runs. This doesn't impact any other resort statistics.\n",
    "2. Increase the vertical drop by adding a run to a point 150 feet lower down but requiring the installation of an additional chair lift to bring skiers back up, without additional snow making coverage\n",
    "3. Same as number 2, but adding 2 acres of snow making cover\n",
    "4. Increase the longest run by 0.2 mile to boast 3.5 miles length, requiring an additional snow making coverage of 4 acres\n",
    "\n",
    "The expected number of visitors over the season is 350,000 and, on average, visitors ski for five days. Assume the provided data includes the additional lift that Big Mountain recently installed.\n",
    "\n",
    "\n",
    "With regards to scenario 1, we find that closing one run makes no difference in ticket pricing. Closing 2 and 3 successively reduces suport for ticket price and so revenue. If big Mountain closes down 3, it seems they as well close down 4 or 5 as there is no further loss in ticket price. Increasing the closures down to 6 or more leads to a large drop in ptice. \n",
    "\n",
    "In scenario 2 big mountain is adding a run, increasing the vertical drop by 150 feet and installing an additional chair lift. This resulted increases in ticket price by $\\$ 1.99$ which translates to an $\\$ 3474638$ over the season. Adding a small increase in the snow making area (as suggested in scenario 3) makes no difference in ticket pricing. \n",
    "\n",
    "In scenario 4, we increase the longest run by 0.2 miless and guaranteeing its snow coverage by adding 4 acres of snow making capability. This did not make any difference in ticket pricing as expected since the longest run has the lowest feature importance in our model. \n",
    "\n",
    "\n",
    "In summary, we suggest Big Mountain considers adding a run and increasing the vertical drop by 150 feet and installing additional chair lift. This will result in ticket price increase by $\\$ 1.99$ increasing seasonal revenue. However, the additional operating cost of the new chair lift per ticket (on the basis of each visitor on average buying 5 day tickets) should also be taken into account in the context of raising prices to cover this.\n",
    "\n",
    "\n"
   ]
  },
  {
   "cell_type": "code",
   "execution_count": null,
   "metadata": {},
   "outputs": [],
   "source": []
  }
 ],
 "metadata": {
  "kernelspec": {
   "display_name": "Python 3",
   "language": "python",
   "name": "python3"
  },
  "language_info": {
   "codemirror_mode": {
    "name": "ipython",
    "version": 3
   },
   "file_extension": ".py",
   "mimetype": "text/x-python",
   "name": "python",
   "nbconvert_exporter": "python",
   "pygments_lexer": "ipython3",
   "version": "3.8.5"
  }
 },
 "nbformat": 4,
 "nbformat_minor": 4
}
